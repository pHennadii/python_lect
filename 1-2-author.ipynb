{
 "cells": [
  {
   "cell_type": "markdown",
   "metadata": {
    "slideshow": {
     "slide_type": "-"
    }
   },
   "source": [
    "## Автор: Гвидо ван Россум\n"
   ]
  },
  {
   "cell_type": "markdown",
   "metadata": {},
   "source": [
    "Гвидо ван Россум (Guido van Rossum) -- **создатель языка** Python\n",
    "\n",
    "Он же **великодушный пожизненный диктатор** \n",
    "(Benevolent dictator for life, сокр. [BDFL](https://en.wikipedia.org/wiki/Benevolent_dictator_for_life))<br/>\n",
    "_(впервые этот термин применили именно к Гвидо)_"
   ]
  },
  {
   "cell_type": "markdown",
   "metadata": {},
   "source": [
    "![](img/01_Introducing/Guido.png) \n",
    "<div style=\"text-align: center;\">_Гвидо ван Россум: 1999 и 2006 года_</div>"
   ]
  },
  {
   "cell_type": "markdown",
   "metadata": {},
   "source": [
    "### Краткая биография:\n",
    "* Родился и вырос в Нидерландах\n",
    "* В 1982 — закончил Амстердамский университет\n",
    "* Затем работал в различных исследовательских институтах\n",
    "* 2005-2012 — работал в Google\n",
    "* С 2013 — работает в Dropbox\n",
    "* Сейчас живёт с женой и сыном в Калифорнии"
   ]
  },
  {
   "cell_type": "markdown",
   "metadata": {},
   "source": [
    "## Создание Python"
   ]
  },
  {
   "cell_type": "markdown",
   "metadata": {},
   "source": [
    "### Дата создания\n",
    "* Декабрь 1989: Гвидо начал разрабатывать новый язык _(на рождественских каникулах)_\n",
    "* Февраль 1991: Гвидо опубликовал исходный текст"
   ]
  },
  {
   "cell_type": "markdown",
   "metadata": {},
   "source": [
    "### Происхождение названия\n"
   ]
  },
  {
   "cell_type": "markdown",
   "metadata": {},
   "source": [
    "На самом деле не от вида пресмыкающихся :)\n",
    "\n",
    "А в честь британского комедийного телешоу 70-х \n",
    "«Летающий цирк Монти Пайтона»<br/>\n",
    "_(основной посыл при этом — язык программирования, забавный для использования)_\n",
    "\n",
    "Впрочем, всё равно название языка чаще связывают именно со змеёй"
   ]
  }
 ],
 "metadata": {
  "kernelspec": {
   "display_name": "Python 3",
   "language": "python",
   "name": "python3"
  },
  "language_info": {
   "codemirror_mode": {
    "name": "ipython",
    "version": 3
   },
   "file_extension": ".py",
   "mimetype": "text/x-python",
   "name": "python",
   "nbconvert_exporter": "python",
   "pygments_lexer": "ipython3",
   "version": "3.6.5"
  }
 },
 "nbformat": 4,
 "nbformat_minor": 2
}
