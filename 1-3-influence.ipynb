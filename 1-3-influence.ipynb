{
 "cells": [
  {
   "cell_type": "markdown",
   "metadata": {},
   "source": [
    "## Влияние других языков"
   ]
  },
  {
   "cell_type": "markdown",
   "metadata": {},
   "source": [
    "### ABC\n",
    "_// Язык для изучения программирования_"
   ]
  },
  {
   "cell_type": "markdown",
   "metadata": {},
   "source": [
    "* отступы для группировки операторов\n",
    "* высокоуровневые структуры данных\n",
    "> Python фактически создавался как попытка исправить ошибки, допущенные при проектировании ABC"
   ]
  },
  {
   "cell_type": "markdown",
   "metadata": {},
   "source": [
    "#### Пример кода на ABC:\n",
    "\n",
    "```\n",
    "HOW TO RETURN words document:\n",
    "   PUT {} IN collection\n",
    "   FOR line IN document:\n",
    "      FOR word IN split line:\n",
    "         IF word not.in collection:\n",
    "            INSERT word IN collection\n",
    "   RETURN collection\n",
    "```"
   ]
  },
  {
   "cell_type": "markdown",
   "metadata": {},
   "source": [
    "### Modula-3\n",
    "_// \"Академический\" язык_"
   ]
  },
  {
   "cell_type": "markdown",
   "metadata": {},
   "source": [
    "* пакеты, модули\n",
    "* использование `else` совместно с `try` и `except`\n",
    "* именованные аргументы функций"
   ]
  },
  {
   "cell_type": "markdown",
   "metadata": {},
   "source": [
    "#### Пример кода на Modula-3\n",
    "\n",
    "```\n",
    "TRY\n",
    "  DO.Something()\n",
    "EXCEPT\n",
    "| IO.Error => IO.Put(\"An I/O error occurred.\")\n",
    "END;\n",
    "```"
   ]
  },
  {
   "cell_type": "markdown",
   "metadata": {},
   "source": [
    "### С, C++ \n",
    "* некоторые синтаксические конструкции \n",
    "> как пишет сам Гвидо ван Россум: <br/> он использовал наиболее непротиворечивые конструкции из С, чтобы не вызвать неприязнь у С-программистов к Python"
   ]
  },
  {
   "cell_type": "markdown",
   "metadata": {},
   "source": [
    "### Smalltalk\n",
    "* объектно-ориентированное программирование"
   ]
  },
  {
   "cell_type": "markdown",
   "metadata": {},
   "source": [
    "### Lisp и Miranda\n",
    "* отдельные черты функционального программирования <br>_(lambda, map, reduce, filter, списочные выражения, ...)_"
   ]
  },
  {
   "cell_type": "markdown",
   "metadata": {},
   "source": [
    "### Fortran \n",
    "* срезы массивов\n",
    "* комплексная арифметика"
   ]
  },
  {
   "cell_type": "markdown",
   "metadata": {},
   "source": [
    "### Java\n",
    "* модули стандартной библиотеки:\n",
    "    * модуль `logging`\n",
    "    * модуль `unittest`\n",
    "    * модуль `threading` _(часть возможностей оригинального модуля не реализована)_\n",
    "    * модуль `xml.sax`\n",
    "* совместное использование `finally` и `except` при обработке исключений\n",
    "* использование `@` для декораторов"
   ]
  },
  {
   "cell_type": "markdown",
   "metadata": {},
   "source": [
    "### Icon \n",
    "* генераторы"
   ]
  }
 ],
 "metadata": {
  "kernelspec": {
   "display_name": "Python 3",
   "language": "python",
   "name": "python3"
  },
  "language_info": {
   "codemirror_mode": {
    "name": "ipython",
    "version": 3
   },
   "file_extension": ".py",
   "mimetype": "text/x-python",
   "name": "python",
   "nbconvert_exporter": "python",
   "pygments_lexer": "ipython3",
   "version": "3.6.5"
  }
 },
 "nbformat": 4,
 "nbformat_minor": 2
}
