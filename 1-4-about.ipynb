{
 "cells": [
  {
   "cell_type": "markdown",
   "metadata": {},
   "source": [
    "## Парадигмы"
   ]
  },
  {
   "cell_type": "markdown",
   "metadata": {},
   "source": [
    "* мультипарадигмальный\n",
    "* объектно-ориентированный _(всё -- объекты)_\n",
    "* императивный\n",
    "* функциональный\n",
    "* аспектно-ориентированный\n",
    "* динамический\n",
    "* рефлективный"
   ]
  },
  {
   "cell_type": "markdown",
   "metadata": {},
   "source": [
    "### Всё объекты"
   ]
  },
  {
   "cell_type": "code",
   "execution_count": null,
   "metadata": {},
   "outputs": [],
   "source": [
    "def f(): pass\n",
    "\n",
    "type(f)"
   ]
  },
  {
   "cell_type": "code",
   "execution_count": null,
   "metadata": {},
   "outputs": [],
   "source": [
    "type((type(f)))"
   ]
  },
  {
   "cell_type": "markdown",
   "metadata": {},
   "source": [
    "// _возможно лучше показать в shell_"
   ]
  },
  {
   "cell_type": "markdown",
   "metadata": {},
   "source": [
    "### Динамический язык\n",
    "* Динамическая (не статическая) типизация\n",
    "    * а также утиная типизация:\n",
    "> Duck-test: _(шутливый тест на очевидность происходящего)_<br/> \n",
    "Если это выглядит как утка, плавает как утка и крякает как утка, то это, возможно, и есть утка.\n",
    "* Однако сильная (не слабая) типизация"
   ]
  },
  {
   "cell_type": "markdown",
   "metadata": {},
   "source": [
    "### Рефлективный язык\n",
    "Может отслеживать и изменять свою структуру и поведение во время выполнения\n",
    "\n",
    "_// например, `globals()`, `dir()`, и есть даже такое: `.__code__`_"
   ]
  },
  {
   "cell_type": "code",
   "execution_count": null,
   "metadata": {},
   "outputs": [],
   "source": [
    "def sum(x, y):\n",
    "    return x + y\n",
    "\n",
    "def mul(x, y):\n",
    "    return x * y\n",
    "\n",
    "sum.__code__ = mul.__code__\n",
    "sum(2, 3)"
   ]
  },
  {
   "cell_type": "markdown",
   "metadata": {},
   "source": [
    "## Особенности языка"
   ]
  },
  {
   "cell_type": "markdown",
   "metadata": {},
   "source": [
    "* Просто выучить и просто использовать\n",
    "* Бесплатный и Open Source\n",
    "* Высокоуровневый\n",
    "* Кросс-платформенный\n",
    "* Хорошее сообщество и поддержка\n",
    "* Хорошо документированный\n",
    "* Интерпретируемый"
   ]
  },
  {
   "cell_type": "markdown",
   "metadata": {},
   "source": [
    "* Большая стандартная библиотека (\"батарейки\")\n",
    "* Широко используемый (Web, скрипты, GUI, и т.д.)\n",
    "* Много научных библиотек\n",
    "* Возможность увеличения производительности (например PyPy)\n",
    "* Интеграция с C/C++\n",
    "* Интерактивный shell, ipython\n",
    "    * _**todo:** показать через putty?_"
   ]
  },
  {
   "cell_type": "markdown",
   "metadata": {},
   "source": [
    "### Дизассемблер Питона"
   ]
  },
  {
   "cell_type": "markdown",
   "metadata": {},
   "source": [
    "**`$`** &nbsp;`cat ./hello.py`\n",
    "\n",
    "```\n",
    "print(\"Hello, world!\")\n",
    "```"
   ]
  },
  {
   "cell_type": "markdown",
   "metadata": {},
   "source": [
    "**`$ `** &nbsp;`python -m dis ./hello.py`\n",
    "\n",
    "```\n",
    "0 LOAD_CONST               0 ('Hello, world!')\n",
    "3 PRINT_ITEM          \n",
    "4 PRINT_NEWLINE       \n",
    "5 LOAD_CONST               1 (None)\n",
    "8 RETURN_VALUE\n",
    "```"
   ]
  },
  {
   "cell_type": "markdown",
   "metadata": {},
   "source": [
    "## Интерпретаторы"
   ]
  },
  {
   "cell_type": "markdown",
   "metadata": {},
   "source": [
    "* CPython\n",
    "* Jython\n",
    "* IronPython\n",
    "* PyPy\n",
    "* Stackless\n",
    "* ..."
   ]
  },
  {
   "cell_type": "markdown",
   "metadata": {},
   "source": [
    "## Python 2 vs Python 3\n",
    "* Две несовместимые ветки языка\n",
    "    * 2.x — в режиме поддержки _(новые фичи не появляются)_\n",
    "    * 3.x — в режиме развития\n",
    "* Основное отличие в обработке Unicode\n",
    "    * 2.x — неявное приведение между `unicode` и `byte`\n",
    "    * 3.x — два отдельных типа: `unicode` и `byte`"
   ]
  },
  {
   "cell_type": "markdown",
   "metadata": {},
   "source": [
    "## IDE\n",
    "\n",
    "* JetBrains PyCharm\n",
    "* Eclipse (PyDev, Aptana)\n",
    "* Vim, Sublime, Emacs, ..."
   ]
  },
  {
   "cell_type": "markdown",
   "metadata": {
    "slideshow": {
     "slide_type": "-"
    }
   },
   "source": [
    "## Философия"
   ]
  },
  {
   "cell_type": "code",
   "execution_count": null,
   "metadata": {},
   "outputs": [],
   "source": [
    "import this"
   ]
  },
  {
   "cell_type": "markdown",
   "metadata": {},
   "source": [
    "### Дзен Питона (перевод)"
   ]
  },
  {
   "cell_type": "markdown",
   "metadata": {},
   "source": [
    "#### 1. Простота:\n",
    "* Красивое лучше, чем уродливое.\n",
    "* Явное лучше, чем неявное.\n",
    "* Простое лучше, чем сложное.\n",
    "* Сложное лучше, чем запутанное."
   ]
  },
  {
   "cell_type": "markdown",
   "metadata": {},
   "source": [
    "#### 2. Читабельность:\n",
    "* Плоское лучше, чем вложенное.\n",
    "* Разреженное лучше, чем плотное.\n",
    "* Читаемость имеет значение.\n",
    "* Особые случаи не настолько особые, чтобы нарушать правила.\n",
    "* При этом практичность важнее безупречности."
   ]
  },
  {
   "cell_type": "markdown",
   "metadata": {},
   "source": [
    "#### 3. Предсказуемость:\n",
    "* Ошибки никогда не должны замалчиваться.\n",
    "* Если не замалчиваются явно.\n",
    "* Встретив двусмысленность, отбрось искушение угадать.\n",
    "* Должен быть один — и, желательно, только один — очевидный способ сделать это.\n",
    "* Хотя он поначалу может быть и не очевиден, если вы не голландец."
   ]
  },
  {
   "cell_type": "markdown",
   "metadata": {},
   "source": [
    "#### 4. Практичность:\n",
    "* Сейчас лучше, чем никогда.\n",
    "* Хотя никогда зачастую лучше, чем прямо сейчас.\n",
    "* Если реализацию сложно объяснить — идея плоха.\n",
    "* Если реализацию легко объяснить — идея, возможно, хороша.\n",
    "* Пространства имён — отличная штука! Будем делать их побольше!"
   ]
  },
  {
   "cell_type": "markdown",
   "metadata": {},
   "source": [
    "## Установка"
   ]
  },
  {
   "cell_type": "markdown",
   "metadata": {},
   "source": [
    "Скачать: **[Python](https://www.python.org/downloads/)** и **[PyCharm](https://www.jetbrains.com/pycharm/download/)**"
   ]
  },
  {
   "cell_type": "markdown",
   "metadata": {},
   "source": [
    "## Первое приложение"
   ]
  },
  {
   "cell_type": "code",
   "execution_count": null,
   "metadata": {},
   "outputs": [],
   "source": [
    "print('Hello, world!')"
   ]
  },
  {
   "cell_type": "code",
   "execution_count": null,
   "metadata": {},
   "outputs": [],
   "source": [
    "import __hello__"
   ]
  },
  {
   "cell_type": "markdown",
   "metadata": {},
   "source": [
    "## Основные идеи языка"
   ]
  },
  {
   "cell_type": "markdown",
   "metadata": {},
   "source": [
    "#### Отступы _(Гвидо признался, что, наверное, это было не очень правильное решение)_"
   ]
  },
  {
   "cell_type": "code",
   "execution_count": null,
   "metadata": {
    "collapsed": true
   },
   "outputs": [],
   "source": [
    "from __future__ import braces"
   ]
  },
  {
   "cell_type": "markdown",
   "metadata": {},
   "source": [
    "#### Всё -- объекты, а все переменные -- ссылки"
   ]
  },
  {
   "cell_type": "markdown",
   "metadata": {},
   "source": [
    "У каждого объекта есть:\n",
    "* **identiry** — [`id()`, `is`], не изменяется\n",
    "    <br/>_// некий уникальный идентификатор, по которому можно найти объект_\n",
    "<br/><br/>\n",
    "* **type** — [`type()`, `isinstance`], не меняется!\n",
    "    <br/>_// показывает что может хранить (какие значения принимать)\n",
    "    и что можно с ним делать (взаимодействовать)_\n",
    "<br/><br/>\n",
    "* **value** — бывает по-всякому\n",
    "    <br/>_//может меняться, может не изменяться (mutabliity: mutable or immutable)_"
   ]
  },
  {
   "cell_type": "code",
   "execution_count": null,
   "metadata": {},
   "outputs": [],
   "source": [
    "a = []\n",
    "b = a\n",
    "b.append(42)\n",
    "a"
   ]
  },
  {
   "cell_type": "code",
   "execution_count": null,
   "metadata": {},
   "outputs": [],
   "source": [
    "a is b"
   ]
  },
  {
   "cell_type": "code",
   "execution_count": null,
   "metadata": {},
   "outputs": [],
   "source": [
    "id(a), id(b)"
   ]
  },
  {
   "cell_type": "code",
   "execution_count": null,
   "metadata": {},
   "outputs": [],
   "source": [
    "a = []\n",
    "b = []\n",
    "a is b   # два mutable объекта, созданные отдельно -- гарантированно разные"
   ]
  },
  {
   "cell_type": "code",
   "execution_count": null,
   "metadata": {},
   "outputs": [],
   "source": [
    "id(a), id(b)"
   ]
  },
  {
   "cell_type": "markdown",
   "metadata": {},
   "source": [
    "Для immutable-объектов это верно не всегда\n",
    "т.к. это не играет никакой роли"
   ]
  },
  {
   "cell_type": "code",
   "execution_count": null,
   "metadata": {},
   "outputs": [],
   "source": [
    "c = 1\n",
    "d = 1\n",
    "id(c), id(d)  # одинаковые"
   ]
  },
  {
   "cell_type": "code",
   "execution_count": null,
   "metadata": {},
   "outputs": [],
   "source": [
    "c = 1000\n",
    "d = 1000\n",
    "id(c), id(d)  # уже разные"
   ]
  },
  {
   "cell_type": "markdown",
   "metadata": {},
   "source": [
    "Дело в том, что при запуске интерпретатора объекты для чисел от -5 до 256 заранее создаются"
   ]
  },
  {
   "cell_type": "code",
   "execution_count": null,
   "metadata": {},
   "outputs": [],
   "source": [
    "# Fun:\n",
    "print(id(id))\n",
    "print(id(id(id)))"
   ]
  },
  {
   "cell_type": "markdown",
   "metadata": {},
   "source": [
    "#### Mutability"
   ]
  },
  {
   "cell_type": "markdown",
   "metadata": {},
   "source": [
    "Из-за ссылочной структуры (и т.к. всё передаётся по ссылкам) многие объекты решили сделать неизменяемыми\n",
    "\n",
    "То есть многие встроенные типы на самом immutable с соответствующей семантикой"
   ]
  },
  {
   "cell_type": "code",
   "execution_count": null,
   "metadata": {},
   "outputs": [],
   "source": [
    "a = 2\n",
    "id(a)"
   ]
  },
  {
   "cell_type": "code",
   "execution_count": null,
   "metadata": {},
   "outputs": [],
   "source": [
    "a += 1\n",
    "id(a)  # а тут уже другой id <_<"
   ]
  },
  {
   "cell_type": "markdown",
   "metadata": {},
   "source": [
    "При попытке совершить мутирующую операцию с неизменяемым объектом:\n",
    "* либо произойдёт создание изменённой копии объекта (как, например, с оператором \"`+=`\")\n",
    "* либо произойдёт ошибка времени выполнения"
   ]
  },
  {
   "cell_type": "markdown",
   "metadata": {},
   "source": [
    "#### Время жизни объектов, Garbage Collector"
   ]
  },
  {
   "cell_type": "markdown",
   "metadata": {},
   "source": [
    "* Reference Count (для каждого объекта учитывается, сколько есть активных ссылок на него)\n",
    "* А также периодически просыпается некий процесс, который проверяет на циклические ссылки"
   ]
  },
  {
   "cell_type": "code",
   "execution_count": null,
   "metadata": {},
   "outputs": [],
   "source": [
    "a = [7]\n",
    "a.append(a)\n",
    "a.append(a)\n",
    "a.append(1)\n",
    "a\n",
    "a[1][1][2][2][1]"
   ]
  },
  {
   "cell_type": "code",
   "execution_count": null,
   "metadata": {},
   "outputs": [],
   "source": [
    "b = []\n",
    "b.append(a)\n",
    "b.append(111)\n",
    "b"
   ]
  },
  {
   "cell_type": "code",
   "execution_count": null,
   "metadata": {},
   "outputs": [],
   "source": [
    "a.append(b)\n",
    "a"
   ]
  },
  {
   "cell_type": "code",
   "execution_count": null,
   "metadata": {},
   "outputs": [],
   "source": [
    "b"
   ]
  },
  {
   "cell_type": "markdown",
   "metadata": {},
   "source": [
    "#### Документация"
   ]
  },
  {
   "cell_type": "code",
   "execution_count": null,
   "metadata": {
    "collapsed": true
   },
   "outputs": [],
   "source": [
    "? id"
   ]
  },
  {
   "cell_type": "code",
   "execution_count": null,
   "metadata": {},
   "outputs": [],
   "source": [
    "help(id)"
   ]
  }
 ],
 "metadata": {
  "kernelspec": {
   "display_name": "Python 3",
   "language": "python",
   "name": "python3"
  },
  "language_info": {
   "codemirror_mode": {
    "name": "ipython",
    "version": 3
   },
   "file_extension": ".py",
   "mimetype": "text/x-python",
   "name": "python",
   "nbconvert_exporter": "python",
   "pygments_lexer": "ipython3",
   "version": "3.6.5"
  }
 },
 "nbformat": 4,
 "nbformat_minor": 2
}
