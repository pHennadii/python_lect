{
 "cells": [
  {
   "cell_type": "markdown",
   "metadata": {
    "slideshow": {
     "slide_type": "-"
    }
   },
   "source": [
    "# <span style=\"color: blue;\">Функции</span>"
   ]
  },
  {
   "cell_type": "markdown",
   "metadata": {},
   "source": [
    "Имя функции -- типично (буквы, цифры, подчёркивания, не может начинаться с цифры)\n",
    "\n",
    "В Python 3.x можно использовать любые языки (но не стоит)"
   ]
  },
  {
   "cell_type": "code",
   "execution_count": null,
   "metadata": {
    "collapsed": true
   },
   "outputs": [],
   "source": [
    "def foo():\n",
    "    return 42\n",
    "foo()"
   ]
  },
  {
   "cell_type": "markdown",
   "metadata": {},
   "source": [
    "`return` можно не использовать, по умолчанию возвращается `None`\n",
    "\n",
    "`return` без аргумента тоже возвращает `None`"
   ]
  },
  {
   "cell_type": "code",
   "execution_count": null,
   "metadata": {
    "collapsed": true
   },
   "outputs": [],
   "source": [
    "def empty():\n",
    "    pass\n",
    "\n",
    "print(empty())"
   ]
  },
  {
   "cell_type": "markdown",
   "metadata": {},
   "source": [
    "Любая функция в Python -- это именно функция, а не процедура"
   ]
  },
  {
   "cell_type": "markdown",
   "metadata": {},
   "source": [
    "А также любая функция в Python -- это объект. И поэтому их можно присваивать переменным."
   ]
  },
  {
   "cell_type": "code",
   "execution_count": null,
   "metadata": {
    "collapsed": true
   },
   "outputs": [],
   "source": [
    "bar = foo\n",
    "bar()"
   ]
  },
  {
   "cell_type": "markdown",
   "metadata": {},
   "source": [
    "#### Документирование"
   ]
  },
  {
   "cell_type": "markdown",
   "metadata": {},
   "source": [
    "Указывается первой строкой, а не комментариями (как в других языках)\n",
    "\n",
    "Благодаря этому к ним можно получить доступ во время выполнения программы"
   ]
  },
  {
   "cell_type": "code",
   "execution_count": null,
   "metadata": {
    "collapsed": true
   },
   "outputs": [],
   "source": [
    "def foo():\n",
    "    \"\"\" Первой строкой \"\"\"\n",
    "    return 42\n",
    "\n",
    "foo.__doc__"
   ]
  },
  {
   "cell_type": "markdown",
   "metadata": {},
   "source": [
    "Можно также получить:\n",
    "* в интерпретаторе через: `help(foo)`\n",
    "* в ipython через: `? foo`"
   ]
  },
  {
   "cell_type": "markdown",
   "metadata": {},
   "source": [
    "Есть специальные утилиты для генерации документации"
   ]
  },
  {
   "cell_type": "markdown",
   "metadata": {},
   "source": [
    "#### Простой пример"
   ]
  },
  {
   "cell_type": "code",
   "execution_count": null,
   "metadata": {
    "collapsed": true
   },
   "outputs": [],
   "source": [
    "def min(x, y):\n",
    "    return x if x < y else y"
   ]
  },
  {
   "cell_type": "code",
   "execution_count": null,
   "metadata": {
    "collapsed": true
   },
   "outputs": [],
   "source": [
    "min(-5, 12)"
   ]
  },
  {
   "cell_type": "code",
   "execution_count": null,
   "metadata": {
    "collapsed": true
   },
   "outputs": [],
   "source": [
    "min(x=-5, y=12)"
   ]
  },
  {
   "cell_type": "code",
   "execution_count": null,
   "metadata": {
    "collapsed": true
   },
   "outputs": [],
   "source": [
    "min(y=12, x=-5)"
   ]
  },
  {
   "cell_type": "code",
   "execution_count": null,
   "metadata": {
    "collapsed": true
   },
   "outputs": [],
   "source": [
    "min(x=-5, z=12)"
   ]
  },
  {
   "cell_type": "markdown",
   "metadata": {},
   "source": [
    "#### План\n",
    "* произвольное число аргументов\n",
    "* min для кортежей, списков, множеств и других последовательностей\n",
    "* ограничить минимум произвольным отрезком [lo, hi]\n",
    "* по lo и hi строить bounded_min (фабрика функций)"
   ]
  },
  {
   "cell_type": "markdown",
   "metadata": {},
   "source": [
    "### Упаковка аргументов"
   ]
  },
  {
   "cell_type": "code",
   "execution_count": null,
   "metadata": {
    "collapsed": true
   },
   "outputs": [],
   "source": [
    "def min(*args):  # type(args) == tuple\n",
    "    res = float(\"inf\")  # бесконечность, целые числа с ней сравниваются корректно\n",
    "    for arg in args:\n",
    "        if arg < res:\n",
    "            res = arg\n",
    "    return res\n",
    "min(-5, 12, 13)"
   ]
  },
  {
   "cell_type": "code",
   "execution_count": null,
   "metadata": {
    "collapsed": true
   },
   "outputs": [],
   "source": [
    "min()"
   ]
  },
  {
   "cell_type": "markdown",
   "metadata": {},
   "source": [
    "Как потребовать, чтобы в args был хотя бы один элемент?"
   ]
  },
  {
   "cell_type": "code",
   "execution_count": null,
   "metadata": {
    "collapsed": true
   },
   "outputs": [],
   "source": [
    "def min(first, *args):\n",
    "    res = first\n",
    "    for arg in args:\n",
    "        if arg < res:\n",
    "            res = arg\n",
    "    return res\n",
    "\n",
    "min()"
   ]
  },
  {
   "cell_type": "markdown",
   "metadata": {},
   "source": [
    "#### Немного о бесконечности"
   ]
  },
  {
   "cell_type": "code",
   "execution_count": null,
   "metadata": {},
   "outputs": [],
   "source": [
    "10 * 1000 < float('inf')"
   ]
  },
  {
   "cell_type": "code",
   "execution_count": null,
   "metadata": {},
   "outputs": [],
   "source": [
    "import math\n",
    "float('inf') == math.inf"
   ]
  },
  {
   "cell_type": "code",
   "execution_count": null,
   "metadata": {},
   "outputs": [],
   "source": [
    "type(math.inf)"
   ]
  },
  {
   "cell_type": "code",
   "execution_count": null,
   "metadata": {},
   "outputs": [],
   "source": [
    "math.inf + 2 == math.inf"
   ]
  },
  {
   "cell_type": "code",
   "execution_count": null,
   "metadata": {},
   "outputs": [],
   "source": [
    "math.inf - math.inf"
   ]
  },
  {
   "cell_type": "markdown",
   "metadata": {},
   "source": [
    "Как применить функцию min к коллекции?"
   ]
  },
  {
   "cell_type": "code",
   "execution_count": null,
   "metadata": {
    "collapsed": true
   },
   "outputs": [],
   "source": [
    "xs = {-5, 12, 13}\n",
    "# min(??)"
   ]
  },
  {
   "cell_type": "markdown",
   "metadata": {},
   "source": [
    "### Распаковка аргументов\n",
    "* будет работать с любым объектом, поддерживающим протокол итератора"
   ]
  },
  {
   "cell_type": "code",
   "execution_count": null,
   "metadata": {
    "collapsed": true
   },
   "outputs": [],
   "source": [
    "xs = {-5, 12, 13}\n",
    "min(*xs)  # но нужно иметь в виду, что для set нет определённого порядка"
   ]
  },
  {
   "cell_type": "code",
   "execution_count": null,
   "metadata": {
    "collapsed": true
   },
   "outputs": [],
   "source": [
    "min(*[-5, 12, 13])"
   ]
  },
  {
   "cell_type": "code",
   "execution_count": null,
   "metadata": {
    "collapsed": true
   },
   "outputs": [],
   "source": [
    "min(*(-5, 12, 13))"
   ]
  },
  {
   "cell_type": "markdown",
   "metadata": {},
   "source": [
    "Об итераторах потом, а пока вспомним про `bounded_min`"
   ]
  },
  {
   "cell_type": "code",
   "execution_count": null,
   "metadata": {
    "collapsed": true
   },
   "outputs": [],
   "source": [
    "bounded_min(-5, 12, 13, lo=0, hi=255)\n",
    "# как?"
   ]
  },
  {
   "cell_type": "markdown",
   "metadata": {},
   "source": [
    "### Ключевые аргументы: аргументы по умолчанию"
   ]
  },
  {
   "cell_type": "markdown",
   "metadata": {},
   "source": [
    "Чтобы не делать несколько перегруженных функций"
   ]
  },
  {
   "cell_type": "code",
   "execution_count": null,
   "metadata": {
    "collapsed": true
   },
   "outputs": [],
   "source": [
    "def bounded_min(first, *args, lo=float(\"-inf\"), hi=float(\"inf\")):\n",
    "    res = hi\n",
    "    for arg in (first, ) + args:\n",
    "        if arg < res and lo <= arg < hi:\n",
    "            res = arg\n",
    "    return max(res, lo)"
   ]
  },
  {
   "cell_type": "markdown",
   "metadata": {},
   "source": [
    "Можно писать и так: 10 > arg > 4, но это некрасиво, \"йода-условие\" :)"
   ]
  },
  {
   "cell_type": "markdown",
   "metadata": {},
   "source": [
    "Когда происходит инициализация ключевых аргументов со значениями по умолчанию?"
   ]
  },
  {
   "cell_type": "markdown",
   "metadata": {},
   "source": [
    "Ответ: в момент определения функции, и вычисляется лишь единожды"
   ]
  },
  {
   "cell_type": "code",
   "execution_count": null,
   "metadata": {
    "collapsed": true
   },
   "outputs": [],
   "source": [
    "i = 5\n",
    "def f(a1, a2=i):\n",
    "    print(a1, a2)\n",
    "i = 6\n",
    "f(1)"
   ]
  },
  {
   "cell_type": "code",
   "execution_count": null,
   "metadata": {
    "collapsed": true
   },
   "outputs": [],
   "source": [
    "f(1, 2)"
   ]
  },
  {
   "cell_type": "code",
   "execution_count": null,
   "metadata": {
    "collapsed": true
   },
   "outputs": [],
   "source": [
    "f(a2=2, 1)  # Ошибка: именованные должны быть после позиционных"
   ]
  },
  {
   "cell_type": "markdown",
   "metadata": {},
   "source": [
    "#### Подводные камни"
   ]
  },
  {
   "cell_type": "code",
   "execution_count": null,
   "metadata": {
    "collapsed": true
   },
   "outputs": [],
   "source": [
    "def unique(iterable, seen=set()):\n",
    "    acc = []\n",
    "    for item in iterable:\n",
    "        if item not in seen:\n",
    "            seen.add(item)\n",
    "            acc.append(item)\n",
    "    return acc\n",
    "\n",
    "xs = [1, 1, 2, 3]\n",
    "unique(xs)"
   ]
  },
  {
   "cell_type": "code",
   "execution_count": null,
   "metadata": {},
   "outputs": [],
   "source": [
    "# хороший пример\n",
    "seen = {2}\n",
    "print(unique(xs, seen))\n",
    "print(seen)"
   ]
  },
  {
   "cell_type": "code",
   "execution_count": null,
   "metadata": {},
   "outputs": [],
   "source": [
    "# хороший пример\n",
    "s = set()\n",
    "unique(xs, s)\n",
    "s"
   ]
  },
  {
   "cell_type": "code",
   "execution_count": null,
   "metadata": {
    "collapsed": true
   },
   "outputs": [],
   "source": [
    "# плохой пример:\n",
    "unique(xs)\n",
    "unique(xs)"
   ]
  },
  {
   "cell_type": "code",
   "execution_count": null,
   "metadata": {
    "collapsed": true
   },
   "outputs": [],
   "source": [
    "unique.__defaults__"
   ]
  },
  {
   "cell_type": "markdown",
   "metadata": {},
   "source": [
    "Все вызовы `unique` шарят параметры по умолчанию между собой"
   ]
  },
  {
   "cell_type": "code",
   "execution_count": null,
   "metadata": {
    "collapsed": true
   },
   "outputs": [],
   "source": [
    "# Ещё простой пример:\n",
    "def f(value, lst=[]):\n",
    "    lst.append(value)\n",
    "    return lst\n",
    "\n",
    "print(f(1))\n",
    "print(f(2))"
   ]
  },
  {
   "cell_type": "markdown",
   "metadata": {},
   "source": [
    "Изменяемые значения лучше не использовать в качестве значений по умолчанию"
   ]
  },
  {
   "cell_type": "markdown",
   "metadata": {},
   "source": [
    "### Как правильно инициализировать?"
   ]
  },
  {
   "cell_type": "code",
   "execution_count": null,
   "metadata": {
    "collapsed": true
   },
   "outputs": [],
   "source": [
    "def unique(iterable, seen=None):\n",
    "    seen = set(seen or [])  # None -- falsy.\n",
    "    # копируем, потому что вызывающая сторона может не ожидать, что set может быть изменён внутри\n",
    "    acc = []\n",
    "    for item in iterable:\n",
    "        if item not in seen:\n",
    "            seen.add(item)\n",
    "            acc.append(item)\n",
    "    return acc\n",
    "xs = [1, 1, 2, 3]\n",
    "unique(xs)"
   ]
  },
  {
   "cell_type": "code",
   "execution_count": null,
   "metadata": {
    "collapsed": true
   },
   "outputs": [],
   "source": [
    "unique(xs)"
   ]
  },
  {
   "cell_type": "code",
   "execution_count": null,
   "metadata": {
    "collapsed": true
   },
   "outputs": [],
   "source": [
    "# Простой пример:\n",
    "def f(value, lst=None):\n",
    "    if lst is None:\n",
    "        lst = []\n",
    "    lst.append(value)\n",
    "    return lst\n",
    "\n",
    "print(f(1))\n",
    "print(f(2))"
   ]
  },
  {
   "cell_type": "code",
   "execution_count": null,
   "metadata": {
    "collapsed": true
   },
   "outputs": [],
   "source": [
    "# falsy-значения (там где ожидается bool, они будут False):\n",
    "0, 0.0, 0j\n",
    "\"\"\n",
    "[], (), {}, set()\n",
    "None\n",
    "# Всё остальное True"
   ]
  },
  {
   "cell_type": "markdown",
   "metadata": {},
   "source": [
    "### Только ключевые (в v3)"
   ]
  },
  {
   "cell_type": "code",
   "execution_count": null,
   "metadata": {
    "collapsed": true
   },
   "outputs": [],
   "source": [
    "def flatten(xs, depth=None):\n",
    "    pass\n",
    "# расплющивает списки с произвольной вложенностью не до самого конца, а до определённой глубины depth\n",
    "flatten([1, [2], 3], depth=1)\n",
    "flatten([1, [2], 3], 1)\n",
    "\n",
    "def flatten(xs, *, depth=None):\n",
    "    pass # обязываем использовать параметр depth только по имени\n",
    "# * -- передать позиционные нельзя, просто показывается, что они как бы все скушаны, но принять никто не может :)"
   ]
  },
  {
   "cell_type": "markdown",
   "metadata": {},
   "source": [
    "### Упаковка и распаковка ключевых аргументов"
   ]
  },
  {
   "cell_type": "code",
   "execution_count": null,
   "metadata": {
    "collapsed": true
   },
   "outputs": [],
   "source": [
    "def runner(cmd, **kwargs):\n",
    "    if kwargs.get(\"verbose\", True):\n",
    "        print(\"Logging enabled\")\n",
    "runner(\"mysqld\", limit=42)"
   ]
  },
  {
   "cell_type": "code",
   "execution_count": null,
   "metadata": {
    "collapsed": true
   },
   "outputs": [],
   "source": [
    "runner(\"mysqld\", **{\"verbose\": False})"
   ]
  },
  {
   "cell_type": "code",
   "execution_count": null,
   "metadata": {
    "collapsed": true
   },
   "outputs": [],
   "source": [
    "#... func(*args, **kwargs)"
   ]
  },
  {
   "cell_type": "code",
   "execution_count": null,
   "metadata": {
    "collapsed": true
   },
   "outputs": [],
   "source": [
    "options = {\"verbose\": False}\n",
    "runner(\"mysqld\", **options)"
   ]
  },
  {
   "cell_type": "markdown",
   "metadata": {},
   "source": [
    "Лучше называйте стандартно:\n",
    "`*args`,\n",
    "`**kwargs` или `**kw`"
   ]
  },
  {
   "cell_type": "markdown",
   "metadata": {},
   "source": [
    "### Распаковка и присваивание"
   ]
  },
  {
   "cell_type": "code",
   "execution_count": null,
   "metadata": {
    "collapsed": true
   },
   "outputs": [],
   "source": [
    "acc = []\n",
    "seen = set()\n",
    "(acc, seen) = ([], set())\n",
    "x = 1\n",
    "y = 2\n",
    "x, y = y, x\n",
    "x, y = y, x + y"
   ]
  },
  {
   "cell_type": "code",
   "execution_count": null,
   "metadata": {
    "collapsed": true
   },
   "outputs": [],
   "source": [
    "tp = (1, 2, 3)\n",
    "a, b, c = tp\n",
    "a"
   ]
  },
  {
   "cell_type": "code",
   "execution_count": null,
   "metadata": {
    "collapsed": true
   },
   "outputs": [],
   "source": [
    "# справа может быть любой объект, поддерживающий протокол итератора\n",
    "x, y, z = [1, 2, 3]\n",
    "x, y, z = {1, 2, 3}  # unordered!\n",
    "x, y, z = \"xyz\"\n",
    "x, y, z"
   ]
  },
  {
   "cell_type": "code",
   "execution_count": null,
   "metadata": {
    "collapsed": true
   },
   "outputs": [],
   "source": [
    "# Скобки обычно опускают, но иногда они бывают полезны\n",
    "rectangle = (0, 0), (4, 4)\n",
    "(x1, y1), (x2, y2) = rectangle\n",
    "# распаковка слева работает рекурсивно :)"
   ]
  },
  {
   "cell_type": "code",
   "execution_count": null,
   "metadata": {
    "collapsed": true
   },
   "outputs": [],
   "source": [
    "# можно использовать подчёркивание для ненужных переменных\n",
    "# но лучше после подчёркивания давать имя\n",
    "lst = [1, 2, 3, 4]\n",
    "_, _, z, _ = lst\n",
    "\n",
    "tpl = (255, 255, 0, 100)\n",
    "_r, g, b, _a = lst"
   ]
  },
  {
   "cell_type": "markdown",
   "metadata": {},
   "source": [
    "### Расширенный синтаксис распаковки (v3.0)"
   ]
  },
  {
   "cell_type": "code",
   "execution_count": null,
   "metadata": {
    "collapsed": true
   },
   "outputs": [],
   "source": [
    "# расширенный синтаксис\n",
    "first, *rest = range(1, 5)\n",
    "first  # 1"
   ]
  },
  {
   "cell_type": "code",
   "execution_count": null,
   "metadata": {
    "collapsed": true
   },
   "outputs": [],
   "source": [
    "rest  # [2, 3, 4]"
   ]
  },
  {
   "cell_type": "code",
   "execution_count": null,
   "metadata": {
    "collapsed": true
   },
   "outputs": [],
   "source": [
    "# * может быть только одна\n",
    "first, *rest, last = range(1, 5)\n",
    "last  # 4\n",
    "# может быть полезно, если это не список, а нечто по чему можно итерироваться, например, файл"
   ]
  },
  {
   "cell_type": "code",
   "execution_count": null,
   "metadata": {
    "collapsed": true
   },
   "outputs": [],
   "source": [
    "a, *b, c = [1, 2]\n",
    "b"
   ]
  },
  {
   "cell_type": "code",
   "execution_count": null,
   "metadata": {
    "collapsed": true
   },
   "outputs": [],
   "source": [
    "first, *rest, last = [42]  # если не хватает"
   ]
  },
  {
   "cell_type": "code",
   "execution_count": null,
   "metadata": {
    "collapsed": true
   },
   "outputs": [],
   "source": [
    "# Выражения с * могут быть рекурсивными:\n",
    "*_, (first, *rest) = [range(1, 5)] * 5\n",
    "first  # 1"
   ]
  },
  {
   "cell_type": "code",
   "execution_count": null,
   "metadata": {
    "collapsed": true
   },
   "outputs": [],
   "source": [
    "*_, (first, *_) = [range(1, 5), range(2, 5), range(3, 5)]\n",
    "first  # 3"
   ]
  },
  {
   "cell_type": "code",
   "execution_count": null,
   "metadata": {
    "collapsed": true
   },
   "outputs": [],
   "source": [
    "def f():\n",
    "    return 10, 'file.txt'\n",
    "\n",
    "length, path = f()"
   ]
  },
  {
   "cell_type": "markdown",
   "metadata": {},
   "source": [
    "### Распаковка и цикл for"
   ]
  },
  {
   "cell_type": "code",
   "execution_count": null,
   "metadata": {
    "collapsed": true
   },
   "outputs": [],
   "source": [
    "for a, *b in [range(4), range(2)]:\n",
    "    print(b)"
   ]
  },
  {
   "cell_type": "code",
   "execution_count": null,
   "metadata": {
    "collapsed": true
   },
   "outputs": [],
   "source": [
    "for a, b in [(1, 2), (3, 4)]:\n",
    "    pass"
   ]
  },
  {
   "cell_type": "code",
   "execution_count": null,
   "metadata": {
    "collapsed": true
   },
   "outputs": [],
   "source": [
    "lst = [1, 2, 3, 4, 5, 'test']\n",
    "for i, b in enumerate(lst):\n",
    "    pass"
   ]
  },
  {
   "cell_type": "code",
   "execution_count": null,
   "metadata": {},
   "outputs": [],
   "source": [
    "dict2 = {'key1': 1, 'key2': 2}\n",
    "for key, value in dict2.items():\n",
    "    print(key, value)"
   ]
  },
  {
   "cell_type": "code",
   "execution_count": null,
   "metadata": {},
   "outputs": [],
   "source": [
    "list(dict2.values())"
   ]
  },
  {
   "cell_type": "code",
   "execution_count": null,
   "metadata": {},
   "outputs": [],
   "source": [
    "for i, value in enumerate(dict2.values()):\n",
    "    print(i, value)"
   ]
  },
  {
   "cell_type": "code",
   "execution_count": null,
   "metadata": {
    "collapsed": true
   },
   "outputs": [],
   "source": [
    "lst1 = range(5)\n",
    "lst2 = ['a', 'b', 'c']\n",
    "\n",
    "for a, b in zip(lst1, lst2):  # как молнией (на одежде) соединем два списка\n",
    "    pass"
   ]
  },
  {
   "cell_type": "markdown",
   "metadata": {},
   "source": [
    "### Распаковка и байткод"
   ]
  },
  {
   "cell_type": "code",
   "execution_count": null,
   "metadata": {
    "collapsed": true
   },
   "outputs": [],
   "source": [
    "import dis\n",
    "dis.dis(\"first, *rest, last = ('a', 'b', 'c')\")"
   ]
  },
  {
   "cell_type": "code",
   "execution_count": null,
   "metadata": {
    "collapsed": true
   },
   "outputs": [],
   "source": [
    "# Мораль: Присваивание в Python работает слева направо\n",
    "x, (x, y) = 1, (2, 3)\n",
    "x"
   ]
  },
  {
   "cell_type": "code",
   "execution_count": null,
   "metadata": {
    "collapsed": true
   },
   "outputs": [],
   "source": [
    "dis.dis(\"first, *rest, last = ['a', 'b', 'c']\")"
   ]
  },
  {
   "cell_type": "markdown",
   "metadata": {},
   "source": [
    "Почти похоже, но не совсем\n",
    "\n",
    "**Мораль:** синтаксически схожие конструкции могут иметь различную семантику времени исполнения"
   ]
  },
  {
   "cell_type": "markdown",
   "metadata": {},
   "source": [
    "### Дополнительные расширения синтаксиса распаковки"
   ]
  },
  {
   "cell_type": "code",
   "execution_count": null,
   "metadata": {
    "collapsed": true
   },
   "outputs": [],
   "source": [
    "# в 3.5 расширили\n",
    "\n",
    "def f(*args, **kwargs):\n",
    "    print(args, kwargs)\n",
    "    \n",
    "# При вызове функции можно распаковать несколько объектов:\n",
    "f(1, 2, *[3, 4], *[5], foo=\"bar\", **{\"baz\": 42}, boo=24)"
   ]
  },
  {
   "cell_type": "code",
   "execution_count": null,
   "metadata": {
    "collapsed": true
   },
   "outputs": [],
   "source": [
    "# и при инициализации контейнеров:\n",
    "defaults = {\"host\": \"0.0.0.0\", \"port\": 8080}\n",
    "{**defaults, \"port\": 80}"
   ]
  },
  {
   "cell_type": "code",
   "execution_count": null,
   "metadata": {
    "collapsed": true
   },
   "outputs": [],
   "source": [
    "[*range(5), 6]  # аналогично для множества и кортежа. только ничего не замещает"
   ]
  },
  {
   "cell_type": "markdown",
   "metadata": {},
   "source": [
    "## Типы параметров"
   ]
  },
  {
   "cell_type": "markdown",
   "metadata": {},
   "source": [
    "_TODO_"
   ]
  }
 ],
 "metadata": {
  "kernelspec": {
   "display_name": "Python 3",
   "language": "python",
   "name": "python3"
  },
  "language_info": {
   "codemirror_mode": {
    "name": "ipython",
    "version": 3
   },
   "file_extension": ".py",
   "mimetype": "text/x-python",
   "name": "python",
   "nbconvert_exporter": "python",
   "pygments_lexer": "ipython3",
   "version": "3.6.5"
  }
 },
 "nbformat": 4,
 "nbformat_minor": 2
}
