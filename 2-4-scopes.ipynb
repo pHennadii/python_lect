{
 "cells": [
  {
   "cell_type": "markdown",
   "metadata": {
    "slideshow": {
     "slide_type": "-"
    }
   },
   "source": [
    "# <span style=\"color: blue;\">Области видимости</span>"
   ]
  },
  {
   "cell_type": "markdown",
   "metadata": {},
   "source": [
    "В отличие от Java (< 8), C/C++ (< 11) в Python функции -- это объекты первого класса (полноправные значения)\n",
    "\n",
    "Поэтому с ними можно делать всё то же самое, что и с другими значениями."
   ]
  },
  {
   "cell_type": "markdown",
   "metadata": {},
   "source": [
    "Например, можно объявлять функции внутри других функций:"
   ]
  },
  {
   "cell_type": "code",
   "execution_count": null,
   "metadata": {},
   "outputs": [],
   "source": [
    "def wrapper():\n",
    "    def identity(x):\n",
    "        return x\n",
    "    return identity\n",
    "\n",
    "f = wrapper()\n",
    "f(42)  # 42"
   ]
  },
  {
   "cell_type": "code",
   "execution_count": null,
   "metadata": {},
   "outputs": [],
   "source": [
    "def wrapper(func):\n",
    "    \n",
    "    def wrapped(*args, **kwargs):\n",
    "        print('before')\n",
    "        res = func(*args, **kwargs)\n",
    "        print('after')\n",
    "        return res\n",
    "    \n",
    "    return wrapped\n",
    "\n",
    "def fun():\n",
    "    print('fun')\n",
    "    \n",
    "fun()"
   ]
  },
  {
   "cell_type": "code",
   "execution_count": null,
   "metadata": {},
   "outputs": [],
   "source": [
    "fun = wrapper(fun)\n",
    "fun()"
   ]
  },
  {
   "cell_type": "code",
   "execution_count": null,
   "metadata": {},
   "outputs": [],
   "source": [
    "# фабрика функций min\n",
    "def make_min(*, lo, hi):\n",
    "    def inner(first, *args):\n",
    "        res = hi\n",
    "        for arg in (first, ) + args:\n",
    "            if lo <= arg < res:\n",
    "                res = arg\n",
    "        return res\n",
    "    return inner\n",
    "\n",
    "bounded_min = make_min(lo=0, hi=255)\n",
    "bounded_min(-5, 12, 13)"
   ]
  },
  {
   "cell_type": "markdown",
   "metadata": {},
   "source": [
    "## Области видимости LEGB"
   ]
  },
  {
   "cell_type": "code",
   "execution_count": null,
   "metadata": {
    "collapsed": true
   },
   "outputs": [],
   "source": [
    "min  # builtin (встроенная)\n",
    "min = 42  # global (глобальная)\n",
    "def f(*args):\n",
    "    min = 2\n",
    "    def g():  # enclosing (объемлющая)\n",
    "        min = 4  # local (локальная)\n",
    "        print(min)"
   ]
  },
  {
   "cell_type": "markdown",
   "metadata": {},
   "source": [
    "`enclosing` -- это как бы \"родительская\" область видимости той функции, в которой объявлена наша функция\n",
    "\n",
    "Этой области может и не быть\n",
    "\n",
    "Внутри функции `g()` переменная `min=2` — находится в объемлющей области видимости"
   ]
  },
  {
   "cell_type": "markdown",
   "metadata": {},
   "source": [
    "Поиск имени ведётся в четырёх областях: L, E, G, B "
   ]
  },
  {
   "cell_type": "markdown",
   "metadata": {},
   "source": [
    "### Интроспеция"
   ]
  },
  {
   "cell_type": "code",
   "execution_count": null,
   "metadata": {},
   "outputs": [],
   "source": [
    "min = 42  # = globals()[\"min\"] = 42\n",
    "globals()\n",
    "# {..., 'min': 42}\n",
    "\n",
    "def f():\n",
    "    min = 2  # = locals()[\"min\"] = 2\n",
    "    print(locals())\n",
    "f()"
   ]
  },
  {
   "cell_type": "markdown",
   "metadata": {},
   "source": [
    "Они даже изменяемые, но лучше так не менять :)"
   ]
  },
  {
   "cell_type": "code",
   "execution_count": null,
   "metadata": {},
   "outputs": [],
   "source": [
    "globals()[\"maxxx\"] = 123\n",
    "maxxx"
   ]
  },
  {
   "cell_type": "markdown",
   "metadata": {},
   "source": [
    "## Замыкания\n",
    "Функции в Python могут использовать переменные, определённые во внешних областях видимости\n",
    "\n",
    "Важно: Поиск переменных осуществляется во время исполнения функции, а не во время её объявления"
   ]
  },
  {
   "cell_type": "code",
   "execution_count": null,
   "metadata": {},
   "outputs": [],
   "source": [
    "def f():\n",
    "    print(i)\n",
    "    \n",
    "for i in range(4):\n",
    "    f()"
   ]
  },
  {
   "cell_type": "markdown",
   "metadata": {},
   "source": [
    "**Замыкание** -- функция, которая ссылается на свободные переменные в своём лексическом контексте"
   ]
  },
  {
   "cell_type": "code",
   "execution_count": null,
   "metadata": {},
   "outputs": [],
   "source": [
    "def make_adder(x):\n",
    "    def adder(n):\n",
    "        return x + n  # захват `x` из внешнего контекста\n",
    "    return adder\n",
    "\n",
    "adder = make_adder(10)\n",
    "adder(5)"
   ]
  },
  {
   "cell_type": "code",
   "execution_count": null,
   "metadata": {},
   "outputs": [],
   "source": [
    "adder2 = make_adder(20)\n",
    "adder2(5)"
   ]
  },
  {
   "cell_type": "code",
   "execution_count": null,
   "metadata": {},
   "outputs": [],
   "source": [
    "adder(5)"
   ]
  },
  {
   "cell_type": "markdown",
   "metadata": {},
   "source": [
    "## Присваивание"
   ]
  },
  {
   "cell_type": "markdown",
   "metadata": {},
   "source": [
    "Для присваивания правило LEGB не работает"
   ]
  },
  {
   "cell_type": "code",
   "execution_count": null,
   "metadata": {},
   "outputs": [],
   "source": [
    "min = 42\n",
    "def f():\n",
    "    min += 1\n",
    "    # min = min   -- тоже даст ошибку\n",
    "    return min\n",
    "f()"
   ]
  },
  {
   "cell_type": "markdown",
   "metadata": {},
   "source": [
    "#### Почему так?\n",
    "\n",
    "Это разворачивается следующим образом: `min = min + 1`\n",
    "\n",
    "По умолчанию операция присваивания создаёт локальную переменную.\n",
    "<br/>\n",
    "Поэтому слева создаётся локальная переменная, а справа используется глобальная.\n",
    "\n",
    "Считается, что тут скорее всего ошибка, неявное поведение."
   ]
  },
  {
   "cell_type": "markdown",
   "metadata": {},
   "source": [
    "Изменить это поведение можно с помощью операторов **`global`** и **`nonlocal`**"
   ]
  },
  {
   "cell_type": "markdown",
   "metadata": {},
   "source": [
    "## Оператор `global`"
   ]
  },
  {
   "cell_type": "code",
   "execution_count": null,
   "metadata": {},
   "outputs": [],
   "source": [
    "min = 42\n",
    "def f():\n",
    "    global min\n",
    "    min += 1\n",
    "    return min"
   ]
  },
  {
   "cell_type": "code",
   "execution_count": null,
   "metadata": {},
   "outputs": [],
   "source": [
    "f()"
   ]
  },
  {
   "cell_type": "code",
   "execution_count": null,
   "metadata": {},
   "outputs": [],
   "source": [
    "f()"
   ]
  },
  {
   "cell_type": "markdown",
   "metadata": {},
   "source": [
    "Но использование **`global`** порочно _(лучше его вообще не использовать)_"
   ]
  },
  {
   "cell_type": "markdown",
   "metadata": {},
   "source": [
    "## Оператор `nonlocal`"
   ]
  },
  {
   "cell_type": "markdown",
   "metadata": {},
   "source": [
    "Для модификации значения переменной из объемлющей области видимости"
   ]
  },
  {
   "cell_type": "code",
   "execution_count": null,
   "metadata": {},
   "outputs": [],
   "source": [
    "def cell(value=None):\n",
    "    def get():\n",
    "        return value\n",
    "    def set(update):\n",
    "        nonlocal value\n",
    "        value = update\n",
    "    return get, set\n",
    "\n",
    "get, set = cell()\n",
    "set(42)\n",
    "get()"
   ]
  },
  {
   "cell_type": "markdown",
   "metadata": {},
   "source": [
    "При вызове функции создаётся новая область видимости\n",
    "\n",
    "Т.е. другие вызовы `cell()` породили бы другую переменную `value`"
   ]
  },
  {
   "cell_type": "code",
   "execution_count": null,
   "metadata": {},
   "outputs": [],
   "source": [
    "del cell  # удалит функцию из глобальной области видимости, но get и set будут работать :)\n",
    "set(24)\n",
    "get()"
   ]
  },
  {
   "cell_type": "markdown",
   "metadata": {},
   "source": [
    "Подробнее: http://python.org/dev/peps/pep-3104"
   ]
  }
 ],
 "metadata": {
  "kernelspec": {
   "display_name": "Python 3",
   "language": "python",
   "name": "python3"
  },
  "language_info": {
   "codemirror_mode": {
    "name": "ipython",
    "version": 3
   },
   "file_extension": ".py",
   "mimetype": "text/x-python",
   "name": "python",
   "nbconvert_exporter": "python",
   "pygments_lexer": "ipython3",
   "version": "3.6.5"
  }
 },
 "nbformat": 4,
 "nbformat_minor": 2
}
