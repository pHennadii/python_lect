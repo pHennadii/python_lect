{
 "cells": [
  {
   "cell_type": "markdown",
   "metadata": {
    "slideshow": {
     "slide_type": "-"
    }
   },
   "source": [
    "# <span style=\"color: blue;\">Стиль написания кода: PEP 8</span>"
   ]
  },
  {
   "cell_type": "markdown",
   "metadata": {},
   "source": [
    "**PEP** _(Python Enhancement Proposals)_ — предложения по улучшению Python"
   ]
  },
  {
   "cell_type": "markdown",
   "metadata": {},
   "source": [
    "PEP 8 содержит стилистические рекомендации по оформлению кода на Python:<br/>\n",
    "* https://www.python.org/dev/peps/pep-0008/ _(**8-e** -- значит, одно из первых)_"
   ]
  },
  {
   "cell_type": "markdown",
   "metadata": {},
   "source": [
    "PEP 8 доминирует, почти все ему следуют\n",
    "\n",
    "Вот ещё некоторые базовые рекомендации:\n",
    "* http://pocoo.org/internal/styleguide"
   ]
  },
  {
   "cell_type": "markdown",
   "metadata": {},
   "source": [
    "### Основное"
   ]
  },
  {
   "cell_type": "markdown",
   "metadata": {},
   "source": [
    "* 4 пробела для отступов\n",
    "* длина строки не более 79 символов для кода\n",
    "* и не более 72 для документации и комментариев\n",
    "* `lower_case_with_underscores` — для переменных и имён функций\n",
    "* `UPPER_CASE_WITH_UNDERSCORE` — для констант"
   ]
  },
  {
   "cell_type": "markdown",
   "metadata": {},
   "source": [
    "### Выражения\n",
    "* унарные операторы без пробелов\n",
    "* бинарные с одним пробелом с обеих сторон\n",
    "* для списков и кортежей с большим количеством элементов используйте перенос сразу после запятой"
   ]
  },
  {
   "cell_type": "code",
   "execution_count": null,
   "metadata": {
    "collapsed": true
   },
   "outputs": [],
   "source": [
    "items = [\n",
    "    'asdasdasd', 'asdasdad', 'a asd sdasdasd', 'asdad',\n",
    "    'asdasda sd', 'adsd',\n",
    "]"
   ]
  },
  {
   "cell_type": "markdown",
   "metadata": {},
   "source": [
    "### Операторы\n",
    "Не пишите тело оператора на одной строке с самим оператором"
   ]
  },
  {
   "cell_type": "code",
   "execution_count": null,
   "metadata": {
    "collapsed": true
   },
   "outputs": [],
   "source": [
    "bar = True\n",
    "\n",
    "if bar: x = 1   # плохо\n",
    "    \n",
    "if bar:\n",
    "    x = 1  # лучше"
   ]
  },
  {
   "cell_type": "markdown",
   "metadata": {},
   "source": [
    "не используйте Йода-сравнения в if и while"
   ]
  },
  {
   "cell_type": "code",
   "execution_count": null,
   "metadata": {
    "collapsed": true
   },
   "outputs": [],
   "source": [
    "method = 'md5'\n",
    "\n",
    "if 'md5' == method:  # плохо\n",
    "    pass\n",
    "\n",
    "if method == 'md5':  # лучше\n",
    "    pass"
   ]
  },
  {
   "cell_type": "markdown",
   "metadata": {},
   "source": [
    "### Не совсем PEP 8, но всё же:\n",
    "\n",
    "Для сравнения на равенство:\n",
    "* объектов — используйте операторы `==` и `!=`\n",
    "* синглтонов — используйте `is`, `is not`"
   ]
  },
  {
   "cell_type": "code",
   "execution_count": null,
   "metadata": {},
   "outputs": [],
   "source": [
    "x = 10\n",
    "x is 10    # ещё сработает.."
   ]
  },
  {
   "cell_type": "code",
   "execution_count": null,
   "metadata": {},
   "outputs": [],
   "source": [
    "x = 1000\n",
    "x is 1000  # а вот это уже нет"
   ]
  },
  {
   "cell_type": "markdown",
   "metadata": {},
   "source": [
    "Для булевых значений используйте сам объект или оператор `not`:"
   ]
  },
  {
   "cell_type": "code",
   "execution_count": null,
   "metadata": {
    "collapsed": true
   },
   "outputs": [],
   "source": [
    "foo = bar = True\n",
    "\n",
    "if foo:\n",
    "    pass\n",
    "while not bar:\n",
    "    pass"
   ]
  },
  {
   "cell_type": "markdown",
   "metadata": {},
   "source": [
    "Проверяйте отсутствие элемента в словаре с помощью \"`not in`\""
   ]
  },
  {
   "cell_type": "code",
   "execution_count": null,
   "metadata": {
    "collapsed": true
   },
   "outputs": [],
   "source": [
    "d, key = {}, \"\"\n",
    "\n",
    "if not key in d:  # плохо\n",
    "    pass\n",
    "if key not in d:  # лучше\n",
    "    pass"
   ]
  },
  {
   "cell_type": "markdown",
   "metadata": {},
   "source": [
    "### Функции\n",
    "Не используйте пробелы до или после скобок при объявлении и вызове фукнции"
   ]
  },
  {
   "cell_type": "code",
   "execution_count": null,
   "metadata": {
    "collapsed": true
   },
   "outputs": [],
   "source": [
    "def foo (x, y):  # плохо\n",
    "    foo( 42, 24 )  # плохо"
   ]
  },
  {
   "cell_type": "markdown",
   "metadata": {},
   "source": [
    "Разделяйте определения функций двумя пустыми строками"
   ]
  },
  {
   "cell_type": "markdown",
   "metadata": {},
   "source": [
    "Ключевые аргументы не требуют пробела"
   ]
  },
  {
   "cell_type": "markdown",
   "metadata": {},
   "source": [
    "Документируйте функции следующим образом:"
   ]
  },
  {
   "cell_type": "code",
   "execution_count": null,
   "metadata": {
    "collapsed": true
   },
   "outputs": [],
   "source": [
    "def something(arg, **options):\n",
    "    \"\"\"One-line summary.\n",
    "    \n",
    "    Optional longer description of the function behaviour.\n",
    "    \"\"\""
   ]
  },
  {
   "cell_type": "markdown",
   "metadata": {},
   "source": [
    "### Инструменты"
   ]
  },
  {
   "cell_type": "markdown",
   "metadata": {},
   "source": [
    "В репозитории пакетов Python есть инструмент"
   ]
  },
  {
   "cell_type": "raw",
   "metadata": {},
   "source": [
    "pip install pep8\n",
    "pep8 ./file.py "
   ]
  },
  {
   "cell_type": "markdown",
   "metadata": {},
   "source": [
    "Проверка: **`autopep8`** показывает как можно исправить код в указанном файле, чтобы он удовлетворял требованиям **`pep8`**"
   ]
  },
  {
   "cell_type": "raw",
   "metadata": {},
   "source": [
    "pip install pep8\n",
    "autopep8 -v ./file.py"
   ]
  }
 ],
 "metadata": {
  "kernelspec": {
   "display_name": "Python 3",
   "language": "python",
   "name": "python3"
  },
  "language_info": {
   "codemirror_mode": {
    "name": "ipython",
    "version": 3
   },
   "file_extension": ".py",
   "mimetype": "text/x-python",
   "name": "python",
   "nbconvert_exporter": "python",
   "pygments_lexer": "ipython3",
   "version": "3.6.5"
  }
 },
 "nbformat": 4,
 "nbformat_minor": 2
}
