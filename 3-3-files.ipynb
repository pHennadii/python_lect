{
 "cells": [
  {
   "cell_type": "markdown",
   "metadata": {
    "slideshow": {
     "slide_type": "-"
    }
   },
   "source": [
    "# <span style=\"color: blue;\">Файлы</span>"
   ]
  },
  {
   "cell_type": "markdown",
   "metadata": {},
   "source": [
    "Текстовые и бинарные файлы в Python — разные по сути"
   ]
  },
  {
   "cell_type": "code",
   "execution_count": null,
   "metadata": {
    "collapsed": true
   },
   "outputs": [],
   "source": [
    "f = open('./hello.txt')\n",
    "f"
   ]
  },
  {
   "cell_type": "markdown",
   "metadata": {},
   "source": [
    "## Аргумент `mode`\n",
    "Определяет режим, в котором открывается файл\n",
    "* `r` — чтение\n",
    "* `w` — запись (truncated)\n",
    "* `a` — запись (append)\n",
    "* `x` — запись (exclusive creation)\n",
    "\n",
    "Можно дополнительно добавить:\n",
    "* `+` — чтение и запись\n",
    "* `t` — текстовый файл _(по умолчанию)_\n",
    "* `b` — бинарный файл (набор `bytes`)"
   ]
  },
  {
   "cell_type": "markdown",
   "metadata": {},
   "source": [
    "![](img/09_Files/open-mode.png)"
   ]
  },
  {
   "cell_type": "raw",
   "metadata": {},
   "source": [
    "                  | r   r+   w   w+   a   a+\n",
    "------------------|--------------------------\n",
    "read              | +   +        +        +\n",
    "write             |     +    +   +    +   +\n",
    "create            |          +   +    +   +\n",
    "truncate          |          +   +\n",
    "position at start | +   +    +   +\n",
    "position at end   |                   +   +"
   ]
  },
  {
   "cell_type": "markdown",
   "metadata": {},
   "source": [
    "Например, \"`r+b`\" — открыть для чтения и записи бинарный файл"
   ]
  },
  {
   "cell_type": "code",
   "execution_count": null,
   "metadata": {
    "collapsed": true
   },
   "outputs": [],
   "source": [
    "open('./my.db', 'r+b')"
   ]
  },
  {
   "cell_type": "markdown",
   "metadata": {},
   "source": [
    "Можно указать кодировку, и логику обработки ошибок:"
   ]
  },
  {
   "cell_type": "code",
   "execution_count": null,
   "metadata": {
    "collapsed": true
   },
   "outputs": [],
   "source": [
    "open('./hello.txt', 'a', encoding=\"cp1251\", errors=\"ignore\")"
   ]
  },
  {
   "cell_type": "markdown",
   "metadata": {},
   "source": [
    "## Методы чтения\n",
    "\n",
    "* **`.read()`** - считать всё\n",
    "* **`.readline()`** - считать строку\n",
    "* **`.readlines()`** - считать все строки как список\n",
    "\n",
    "Первым параметром можно указать, сколько байтов/символов нужно считать"
   ]
  },
  {
   "cell_type": "markdown",
   "metadata": {},
   "source": [
    "TODO: Примеры?"
   ]
  },
  {
   "cell_type": "code",
   "execution_count": null,
   "metadata": {},
   "outputs": [],
   "source": []
  },
  {
   "cell_type": "markdown",
   "metadata": {},
   "source": [
    "## Методы записи\n",
    "\n",
    "* **`.write()`** - пишет строку в файл\n",
    "<br/>• &nbsp; возвращает количество записанных байтов/символов\n",
    "<br/>• &nbsp; добавление символа окончания строки при этом не происходит\n",
    "* **`.writelines()`** - пишет несколько строк в файл"
   ]
  },
  {
   "cell_type": "code",
   "execution_count": null,
   "metadata": {},
   "outputs": [],
   "source": []
  },
  {
   "cell_type": "markdown",
   "metadata": {},
   "source": [
    "## Другие методы\n",
    "* `.fileno()` -- возвращает файловый дескриптор (число)\n",
    "* `.tell()` -- возвращает текущую позицию в файле\n",
    "* `.seek()` -- прыгнуть в файле на новую позицию\n",
    "* `.flush()` -- явно скинуть текущий кеш записи в файл\n",
    "* `.truncate()` -- обрезать файл\n",
    "* `.close()` -- закрыть файл (буфер гарантированно сбрасывается)\n",
    "* `.closed` -- проверить, закрыт ли файл"
   ]
  },
  {
   "cell_type": "code",
   "execution_count": null,
   "metadata": {},
   "outputs": [],
   "source": []
  },
  {
   "cell_type": "markdown",
   "metadata": {},
   "source": [
    "## Стражи контекстов"
   ]
  },
  {
   "cell_type": "code",
   "execution_count": null,
   "metadata": {
    "collapsed": true
   },
   "outputs": [],
   "source": [
    "with open('hello.txt') as f:\n",
    "    for line in f:\n",
    "        print(len(line))"
   ]
  },
  {
   "cell_type": "markdown",
   "metadata": {},
   "source": [
    "чтобы не делать `close()`, т.к. `with` сам это сделает"
   ]
  },
  {
   "cell_type": "markdown",
   "metadata": {},
   "source": [
    "## Стандартные потоки ввода-вывода"
   ]
  },
  {
   "cell_type": "markdown",
   "metadata": {},
   "source": [
    "Интерпретатор Python предоставляет три **текстовых** файла, называемых стандартными потоками ввода/вывода:\n",
    "* `sys.stdin` -- поток ввода\n",
    "* `sys.stdout` -- поток вывода\n",
    "* `sys.stderr` -- поток ошибок"
   ]
  },
  {
   "cell_type": "code",
   "execution_count": null,
   "metadata": {
    "collapsed": true
   },
   "outputs": [],
   "source": [
    "import sys\n",
    "# Доступ к стандартному вводу-выводу через интерфейс файлов\n",
    "text = sys.stdin.read()\n",
    "sys.stdout.write(text)\n",
    "sys.stderr.write('Done')"
   ]
  },
  {
   "cell_type": "markdown",
   "metadata": {},
   "source": [
    "#### Более удобные функции"
   ]
  },
  {
   "cell_type": "code",
   "execution_count": null,
   "metadata": {
    "collapsed": true
   },
   "outputs": [],
   "source": [
    "something = input(\"Input something: \")\n",
    "print(something, file=sys.stdout)\n",
    "print(something, file=sys.stderr)"
   ]
  },
  {
   "cell_type": "markdown",
   "metadata": {},
   "source": [
    "Можно изменить разделитель между аргументами"
   ]
  },
  {
   "cell_type": "code",
   "execution_count": null,
   "metadata": {
    "collapsed": true
   },
   "outputs": [],
   "source": [
    "print(*range(4))"
   ]
  },
  {
   "cell_type": "code",
   "execution_count": null,
   "metadata": {
    "collapsed": true
   },
   "outputs": [],
   "source": [
    "print(*range(4), sep='_')"
   ]
  },
  {
   "cell_type": "markdown",
   "metadata": {},
   "source": [
    "Можно указать последовательность, которой заканчивается вывод:"
   ]
  },
  {
   "cell_type": "code",
   "execution_count": null,
   "metadata": {
    "collapsed": true
   },
   "outputs": [],
   "source": [
    "print(*range(4), end=\"\")\n",
    "print(' :)')"
   ]
  },
  {
   "cell_type": "code",
   "execution_count": null,
   "metadata": {
    "collapsed": true
   },
   "outputs": [],
   "source": [
    "print(*range(4), end=\"\\n--\\n\")"
   ]
  },
  {
   "cell_type": "markdown",
   "metadata": {},
   "source": [
    "Можно форсировать вызов `flush` у файла, в который выводим:"
   ]
  },
  {
   "cell_type": "code",
   "execution_count": null,
   "metadata": {
    "collapsed": true
   },
   "outputs": [],
   "source": [
    "handle = open(\"./hello.txt\", 'w')\n",
    "print(*range(4), file=handle, flush=True)"
   ]
  },
  {
   "cell_type": "markdown",
   "metadata": {},
   "source": [
    "## Модуль `io`"
   ]
  },
  {
   "cell_type": "markdown",
   "metadata": {},
   "source": [
    "Класс `io.StringIO` позволяет получить файловый объект из строки"
   ]
  },
  {
   "cell_type": "code",
   "execution_count": null,
   "metadata": {
    "collapsed": true
   },
   "outputs": [],
   "source": [
    "import io\n",
    "handle = io.StringIO(\"foo\\nbar\")\n",
    "handle.readline()"
   ]
  },
  {
   "cell_type": "code",
   "execution_count": null,
   "metadata": {
    "collapsed": true
   },
   "outputs": [],
   "source": [
    "handle.write(\"boo\")\n",
    "handle.getvalue()"
   ]
  },
  {
   "cell_type": "markdown",
   "metadata": {},
   "source": [
    "Класс `io.BytesIO` аналогично позволяет работать с байтами"
   ]
  },
  {
   "cell_type": "code",
   "execution_count": null,
   "metadata": {
    "collapsed": true
   },
   "outputs": [],
   "source": [
    "handle = io.BytesIO(b'foobar')\n",
    "handle.read(3)"
   ]
  },
  {
   "cell_type": "code",
   "execution_count": null,
   "metadata": {
    "collapsed": true
   },
   "outputs": [],
   "source": [
    "handle.getvalue()"
   ]
  }
 ],
 "metadata": {
  "kernelspec": {
   "display_name": "Python 3",
   "language": "python",
   "name": "python3"
  },
  "language_info": {
   "codemirror_mode": {
    "name": "ipython",
    "version": 3
   },
   "file_extension": ".py",
   "mimetype": "text/x-python",
   "name": "python",
   "nbconvert_exporter": "python",
   "pygments_lexer": "ipython3",
   "version": "3.6.5"
  }
 },
 "nbformat": 4,
 "nbformat_minor": 2
}
