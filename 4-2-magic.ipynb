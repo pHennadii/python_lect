{
 "cells": [
  {
   "cell_type": "markdown",
   "metadata": {
    "slideshow": {
     "slide_type": "-"
    }
   },
   "source": [
    "# <span style=\"color: blue;\">Магические методы</span>"
   ]
  },
  {
   "cell_type": "markdown",
   "metadata": {},
   "source": [
    "\"Магическими\" называются внутренние методы классов, например, метод `__init__`."
   ]
  },
  {
   "cell_type": "markdown",
   "metadata": {},
   "source": [
    "С помощью \"магических\" методов можно:\n",
    "* управлять доступом к атрибутам экземпляра\n",
    "* перегрузить операторы (сравнения, арифметические, и др.)\n",
    "* определить строковое представление экземпляра\n",
    "* изменить способ хеширования экземпляра\n",
    "* и др."
   ]
  },
  {
   "cell_type": "markdown",
   "metadata": {},
   "source": [
    "Мы рассмотрим только часть наиболее используемых методов."
   ]
  },
  {
   "cell_type": "markdown",
   "metadata": {},
   "source": [
    "Подробное описание всех \"магических\" методов можно найти в документации языка: http://bit.ly/magic-methods"
   ]
  },
  {
   "cell_type": "markdown",
   "metadata": {},
   "source": [
    "### Метод `__getattr__`"
   ]
  },
  {
   "cell_type": "markdown",
   "metadata": {},
   "source": [
    "Метод __getattr__ вызывается при попытке прочитать значение несуществующего атрибута:"
   ]
  },
  {
   "cell_type": "code",
   "execution_count": null,
   "metadata": {
    "collapsed": true
   },
   "outputs": [],
   "source": [
    "class Noop:\n",
    "    pass\n",
    "\n",
    "Noop().foobar"
   ]
  },
  {
   "cell_type": "markdown",
   "metadata": {},
   "source": [
    "Определим метод `__getattr__` для класса `Noop`:"
   ]
  },
  {
   "cell_type": "code",
   "execution_count": null,
   "metadata": {
    "collapsed": true
   },
   "outputs": [],
   "source": [
    "class Noop:\n",
    "    def __getattr__(self, name):\n",
    "        return name  # identity\n",
    "    \n",
    "Noop().foobar"
   ]
  },
  {
   "cell_type": "markdown",
   "metadata": {},
   "source": [
    "### Методы `__setattr__`и `__detattr__`"
   ]
  },
  {
   "cell_type": "markdown",
   "metadata": {},
   "source": [
    "Методы `__setattr__` и `_delattr_` позволяют управлять изменением значения и удалением атрибутов."
   ]
  },
  {
   "cell_type": "markdown",
   "metadata": {},
   "source": [
    "В отличие от `__getattr__` они вызываются для всех атрибутов, а не только для несуществующих."
   ]
  },
  {
   "cell_type": "markdown",
   "metadata": {},
   "source": [
    "Пример, запрещающий изменять значение некоторых атрибутов:"
   ]
  },
  {
   "cell_type": "code",
   "execution_count": null,
   "metadata": {
    "collapsed": true
   },
   "outputs": [],
   "source": [
    "class Guarded:\n",
    "    guarded = []\n",
    "    \n",
    "    def __setattr__(self, name, value):\n",
    "        assert name not in self.guarded\n",
    "        super().__setattr__(name, value)\n",
    "        \n",
    "class Noop(Guarded):\n",
    "    guarded = [\"foobar\"]\n",
    "    \n",
    "    def __init__(self):\n",
    "        self.__dict__[\"foobar\"] = 42  # Зачем это?"
   ]
  },
  {
   "cell_type": "code",
   "execution_count": null,
   "metadata": {},
   "outputs": [],
   "source": [
    "a = Noop()\n",
    "a.foobar = 1"
   ]
  },
  {
   "cell_type": "code",
   "execution_count": null,
   "metadata": {},
   "outputs": [],
   "source": [
    "a.__dict__[\"foobar\"] = 2\n",
    "a.__dict__[\"foobar\"]"
   ]
  },
  {
   "cell_type": "code",
   "execution_count": null,
   "metadata": {},
   "outputs": [],
   "source": [
    "a.another = 1\n",
    "a.another"
   ]
  },
  {
   "cell_type": "markdown",
   "metadata": {},
   "source": [
    "### Функции __getattr__, __setattr__, __delattr__ и __getattribute__"
   ]
  },
  {
   "cell_type": "markdown",
   "metadata": {},
   "source": [
    "Функция `getattr` позволяет безопасно получить значение атрибута экземпляра класса по его имени:"
   ]
  },
  {
   "cell_type": "code",
   "execution_count": null,
   "metadata": {
    "collapsed": true
   },
   "outputs": [],
   "source": [
    "class Noop:\n",
    "    some_attribute = 42"
   ]
  },
  {
   "cell_type": "code",
   "execution_count": null,
   "metadata": {
    "collapsed": true
   },
   "outputs": [],
   "source": [
    "noop = Noop()\n",
    "getattr(noop, \"some_attribute\")"
   ]
  },
  {
   "cell_type": "code",
   "execution_count": null,
   "metadata": {
    "collapsed": true
   },
   "outputs": [],
   "source": [
    "getattr(noop, \"some_other_attribute\", 100500)"
   ]
  },
  {
   "cell_type": "markdown",
   "metadata": {},
   "source": [
    "Комплементарные функции `setattr` и `delattr` добавляют и удаляют атрибут:"
   ]
  },
  {
   "cell_type": "code",
   "execution_count": null,
   "metadata": {
    "collapsed": true
   },
   "outputs": [],
   "source": [
    "setattr(noop, \"some_other_attribute\", 100500)\n",
    "delattr(noop, \"some_other_attribute\")"
   ]
  },
  {
   "cell_type": "markdown",
   "metadata": {},
   "source": [
    "`__getattribute__` вызывается **до** обращения к атрибуту<br/>\n",
    "_(написать пример?)_"
   ]
  },
  {
   "cell_type": "code",
   "execution_count": null,
   "metadata": {},
   "outputs": [],
   "source": [
    "from collections import Counter\n",
    "\n",
    "class CountedMixin:\n",
    "    def __init__(self):\n",
    "        self.__counter = Counter()\n",
    "        \n",
    "    def __getattribute__(self, name):\n",
    "        attr = object.__getattribute__(self, name)\n",
    "        if attr and callable(attr):\n",
    "            self.__counter[name] += 1\n",
    "            print(\"Attribute {} called {} times\".format(name, self.__counter[name]))\n",
    "        return attr\n",
    "    \n",
    "class Greeter:\n",
    "    def greet(self):\n",
    "        print('Hi')\n",
    "        \n",
    "class CountedGreeter(CountedMixin, Greeter):\n",
    "    pass\n",
    "\n",
    "c = CountedGreeter()\n",
    "c.greet()"
   ]
  },
  {
   "cell_type": "code",
   "execution_count": null,
   "metadata": {},
   "outputs": [],
   "source": [
    "c.greet()"
   ]
  },
  {
   "cell_type": "markdown",
   "metadata": {},
   "source": [
    "### Операторы сравнения"
   ]
  },
  {
   "cell_type": "markdown",
   "metadata": {},
   "source": [
    "Чтобы экземпляры класса поддерживали все операторы сравнения, нужно реализовать внушительное количество \"магических\" методов:"
   ]
  },
  {
   "cell_type": "code",
   "execution_count": null,
   "metadata": {
    "collapsed": true,
    "scrolled": true
   },
   "outputs": [],
   "source": [
    "instance.__eq__(other)  # instance == other\n",
    "instance.__ne__(other)  # instance != other\n",
    "instance.__lt__(other)  # instance < other\n",
    "instance.__le__(other)  # instance <= other\n",
    "instance.__gt__(other)  # instance > other\n",
    "instance.__ge__(other)  # instance >= other"
   ]
  },
  {
   "cell_type": "markdown",
   "metadata": {},
   "source": [
    "С помощью специального декоратора можно облегчить реализацию операторов сравнения:"
   ]
  },
  {
   "cell_type": "code",
   "execution_count": null,
   "metadata": {
    "collapsed": true
   },
   "outputs": [],
   "source": [
    "import functools\n",
    "\n",
    "@functools.total_ordering\n",
    "class Counter:\n",
    "    def __eq__(self, other):\n",
    "        return self.value == other.value\n",
    "    \n",
    "    def __lt__(self, other):  # или <=, >, >=\n",
    "        return self.value < other.value"
   ]
  },
  {
   "cell_type": "markdown",
   "metadata": {},
   "source": [
    "### Метод __call__"
   ]
  },
  {
   "cell_type": "markdown",
   "metadata": {},
   "source": [
    "Метод `__call__` позволяет \"вызывать\" экземпляры классов, имитируя интерфейс функций:"
   ]
  },
  {
   "cell_type": "code",
   "execution_count": null,
   "metadata": {
    "collapsed": true
   },
   "outputs": [],
   "source": [
    "class Identity:\n",
    "    def __call__(self, x):\n",
    "        return x\n",
    "    \n",
    "Identity()(42)"
   ]
  },
  {
   "cell_type": "markdown",
   "metadata": {},
   "source": [
    "### Преобразование в строку"
   ]
  },
  {
   "cell_type": "code",
   "execution_count": null,
   "metadata": {
    "collapsed": true
   },
   "outputs": [],
   "source": [
    "class Counter:\n",
    "    def __init__(self, initial=0):\n",
    "        self.value = initial\n",
    "        \n",
    "    def __repr__(self):\n",
    "        return \"Counter({})\".format(self.value)\n",
    "    \n",
    "    def __str__(self):\n",
    "        return \"Counted to {}\".format(self.value)\n",
    "    \n",
    "c = Counter(42)\n",
    "c"
   ]
  },
  {
   "cell_type": "code",
   "execution_count": null,
   "metadata": {
    "collapsed": true
   },
   "outputs": [],
   "source": [
    "print(c)"
   ]
  },
  {
   "cell_type": "markdown",
   "metadata": {},
   "source": [
    "### Расширение __format__"
   ]
  },
  {
   "cell_type": "code",
   "execution_count": null,
   "metadata": {
    "collapsed": true
   },
   "outputs": [],
   "source": [
    "class Counter:\n",
    "    def __init__(self, initial=0):\n",
    "        self.value = initial\n",
    "    \n",
    "    def __format__(self, format_spec):\n",
    "        return self.value.__format__(format_spec)\n",
    "\n",
    "c = Counter(42)\n",
    "\"Counted to {:b}\".format(c)"
   ]
  },
  {
   "cell_type": "code",
   "execution_count": 1,
   "metadata": {
    "collapsed": true
   },
   "outputs": [
    {
     "data": {
      "text/plain": [
       "'Counted to [hello:101010]'"
      ]
     },
     "execution_count": 1,
     "metadata": {},
     "output_type": "execute_result"
    }
   ],
   "source": [
    "class Counter:\n",
    "    def __init__(self, initial=0):\n",
    "        self.value = initial\n",
    "    \n",
    "    def __format__(self, format_spec):\n",
    "        if '@' in format_spec:\n",
    "            format_spec = format_spec.replace('@', '')\n",
    "            default = self.value.__format__(format_spec)\n",
    "            return \"[hello:{}]\".format(default)\n",
    "        else:\n",
    "            return self.value.__format__(format_spec)\n",
    "\n",
    "c = Counter(42)\n",
    "\"Counted to {:b@}\".format(c)"
   ]
  },
  {
   "cell_type": "markdown",
   "metadata": {},
   "source": [
    "### Метод __hash__"
   ]
  },
  {
   "cell_type": "markdown",
   "metadata": {},
   "source": [
    "Метод `__hash__` используется для вычисления значения хеш-функции"
   ]
  },
  {
   "cell_type": "markdown",
   "metadata": {},
   "source": [
    "Реализация по умолчанию гарантирует, что одинаковое значение хеш функции будет только у физически одинаковых объектов, то есть:"
   ]
  },
  {
   "cell_type": "code",
   "execution_count": null,
   "metadata": {
    "collapsed": true,
    "scrolled": true
   },
   "outputs": [],
   "source": [
    "x is y  <=>  hash(x) == hash(y)"
   ]
  },
  {
   "cell_type": "markdown",
   "metadata": {},
   "source": [
    "Несколько очевидных рекомендаций:\n",
    "* Метод `__hash__` имеет смысл реализовать только вместе с `__eq__`.<br/>При этом нужно соблюсти: `x == y  =>  hash(x) == hash(y)`\n",
    "* Для изменяемых объектов можно ограничиться только методом `__eq__`"
   ]
  },
  {
   "cell_type": "markdown",
   "metadata": {},
   "source": [
    "### Метод __bool__"
   ]
  },
  {
   "cell_type": "markdown",
   "metadata": {},
   "source": [
    "Метод `__bool__` для проверки значения на истинность, например, в условии оператора `if`"
   ]
  },
  {
   "cell_type": "markdown",
   "metadata": {},
   "source": [
    "Для класса `Counter` реализация `__bool__` тривиальна:"
   ]
  },
  {
   "cell_type": "code",
   "execution_count": null,
   "metadata": {
    "collapsed": true
   },
   "outputs": [],
   "source": [
    "class Counter:\n",
    "    def __init__(self, initial=0):\n",
    "        self.value = initial\n",
    "        \n",
    "    def __bool__(self):\n",
    "        return bool(self.value)\n",
    "    \n",
    "c = Counter()\n",
    "if not c:\n",
    "    print(\"No counts yet.\")"
   ]
  },
  {
   "cell_type": "markdown",
   "metadata": {},
   "source": [
    "### Ещё:"
   ]
  },
  {
   "cell_type": "markdown",
   "metadata": {},
   "source": [
    "* **арифметические**: `add`, `radd`, `iadd`, `mul`, `div`, ...\n",
    "* **сравнения**: `eq`, `neq`, `le`, `lt`, `gt`, `ge`\n",
    "* **преобразования типов**: `int`, `str`, `bool`, ...\n",
    "* **управление отображением в интерпретаторе**: `repr`\n",
    "* **доступ к элементам**: `getitem`, `setitem`, `len`, ...\n",
    "* **доступ к атрибутам**: `getattr`, `setattr`, `delattr`, `getattribute`\n",
    "* **хеширования**: `hash`\n",
    "* **вызова**: `call`"
   ]
  },
  {
   "cell_type": "markdown",
   "metadata": {},
   "source": [
    "### Резюме"
   ]
  },
  {
   "cell_type": "markdown",
   "metadata": {},
   "source": [
    "\"Магические\" методы позволяют уточнить поведение экземпляров класса в различных конструкциях языка."
   ]
  },
  {
   "cell_type": "markdown",
   "metadata": {},
   "source": [
    "Мы рассмотрели небольшое количество \"магических\" методов, на самом деле их намного больше."
   ]
  }
 ],
 "metadata": {
  "kernelspec": {
   "display_name": "Python 3",
   "language": "python",
   "name": "python3"
  },
  "language_info": {
   "codemirror_mode": {
    "name": "ipython",
    "version": 3
   },
   "file_extension": ".py",
   "mimetype": "text/x-python",
   "name": "python",
   "nbconvert_exporter": "python",
   "pygments_lexer": "ipython3",
   "version": "3.6.5"
  }
 },
 "nbformat": 4,
 "nbformat_minor": 2
}
