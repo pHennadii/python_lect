{
 "cells": [
  {
   "cell_type": "markdown",
   "metadata": {
    "slideshow": {
     "slide_type": "-"
    }
   },
   "source": [
    "# <span style=\"color: blue;\">Менеджеры контекста</span>"
   ]
  },
  {
   "cell_type": "code",
   "execution_count": 23,
   "metadata": {
    "collapsed": true
   },
   "outputs": [],
   "source": [
    "def do_something(*args, **kwargs): \n",
    "    pass"
   ]
  },
  {
   "cell_type": "markdown",
   "metadata": {},
   "source": [
    "### Зачем нужны менеджеры контекста?"
   ]
  },
  {
   "cell_type": "markdown",
   "metadata": {},
   "source": [
    "Менеджеры контекста позволяют компактно выразить уже знакомый нам паттерн управления ресурсами _(файл, сокет, мьютекс, соединение с БД, транзакция и т.п.)_:\n"
   ]
  },
  {
   "cell_type": "code",
   "execution_count": null,
   "metadata": {},
   "outputs": [],
   "source": [
    "r = acquire_resource()  # завладели ресурсом\n",
    "try:\n",
    "    do_something(r)\n",
    "finally:\n",
    "    release_resource(r)  # освобождение ресурса"
   ]
  },
  {
   "cell_type": "markdown",
   "metadata": {},
   "source": [
    "С помощью менеджера контекста пример выше можно записать так:"
   ]
  },
  {
   "cell_type": "code",
   "execution_count": null,
   "metadata": {
    "collapsed": true
   },
   "outputs": [],
   "source": [
    "with acquire_resource() as r:\n",
    "    do_something(r)"
   ]
  },
  {
   "cell_type": "markdown",
   "metadata": {},
   "source": [
    "Действие `release_resource` будет выполнено автоматически, вызывать его явно не нужно.\n",
    "\n",
    "Интерпретатор не знает, как освобождать ресурсы, но каждый ресурс знает, как себя освободить."
   ]
  },
  {
   "cell_type": "markdown",
   "metadata": {},
   "source": [
    "Оператор **`as`** опционален."
   ]
  },
  {
   "cell_type": "markdown",
   "metadata": {},
   "source": [
    "### Использование переменных"
   ]
  },
  {
   "cell_type": "code",
   "execution_count": null,
   "metadata": {},
   "outputs": [],
   "source": [
    "f = 'hi'\n",
    "\n",
    "with open('hello.txt') as f:\n",
    "    pass\n",
    "\n",
    "print(f)\n",
    "\n",
    "for i in range(4):\n",
    "    pass\n",
    "\n",
    "print(i)"
   ]
  },
  {
   "cell_type": "markdown",
   "metadata": {},
   "source": [
    "### Протокол менеджеров контекста"
   ]
  },
  {
   "cell_type": "markdown",
   "metadata": {},
   "source": [
    "Протокол менеджеров контекста состоит из двух методов."
   ]
  },
  {
   "cell_type": "markdown",
   "metadata": {},
   "source": [
    "Метод **`__enter__`** инициализирует контекст _(например, открывает файл или захватывает мьютекс)_\n",
    "\n",
    "Значение, возвращаемое методом **`__enter__`**, записывается по имени, указанному после оператора **`as`**."
   ]
  },
  {
   "cell_type": "markdown",
   "metadata": {},
   "source": [
    "Метод **`__exit__`** вызывается после выполнения тела оператора **`with`**. \n",
    "\n",
    "Метод принимает три аргумента:\n",
    "1. тип исключения\n",
    "2. само исключение\n",
    "3. объект типа `traceback`\n",
    "\n",
    "Если в процессе исполнения тела оператора **`with`** было поднятно исключение, метод **`__exit__`** может подавить его, вернув **`True`**.\n",
    "\n",
    "Если исключения не было, все три аргумента равняются `None`"
   ]
  },
  {
   "cell_type": "markdown",
   "metadata": {},
   "source": [
    "Экземпляр любого класса, реализующего эти два метода, является **менеджером контекста**<br/>\n",
    "_(то есть наследоваться для этого не нужно)_\n",
    "\n",
    "Такая схема называется **Duck Typing** _(\"если оно крякает как утка, значит, оно и есть утка\")_"
   ]
  },
  {
   "cell_type": "markdown",
   "metadata": {},
   "source": [
    "### “Семантика” оператора with"
   ]
  },
  {
   "cell_type": "markdown",
   "metadata": {},
   "source": [
    "Напоминание:"
   ]
  },
  {
   "cell_type": "code",
   "execution_count": null,
   "metadata": {
    "collapsed": true
   },
   "outputs": [],
   "source": [
    "with acquire_resource() as r:\n",
    "    do_something(r)"
   ]
  },
  {
   "cell_type": "markdown",
   "metadata": {},
   "source": [
    "Процесс исполнения оператора `with` можно концептуально записать так:"
   ]
  },
  {
   "cell_type": "code",
   "execution_count": null,
   "metadata": {},
   "outputs": [],
   "source": [
    "manager = acquire_resource()\n",
    "r = manager.__enter__()\n",
    "try:\n",
    "    do_something(r)\n",
    "finally:\n",
    "    exc_type, exc_value, tb = sys.exc_info()\n",
    "    suppress = manager.__exit__(exc_type, exc_value, tb)\n",
    "    if exc_value is not None and not suppress:\n",
    "        raise exc_value"
   ]
  },
  {
   "cell_type": "markdown",
   "metadata": {},
   "source": [
    "### Расширенные возможности оператора with"
   ]
  },
  {
   "cell_type": "markdown",
   "metadata": {},
   "source": [
    "Оператор `with` позволяет работать с несколькими контекстными менеджерами одновременно:\n"
   ]
  },
  {
   "cell_type": "code",
   "execution_count": null,
   "metadata": {},
   "outputs": [],
   "source": [
    "with acquire_resource() as r, \\\n",
    "     acquire_other_resource() as other:\n",
    "    do_something(r, other)"
   ]
  },
  {
   "cell_type": "markdown",
   "metadata": {},
   "source": [
    "Здесь обязательно использовать именно слеш для разбития строки на две (скобочки не помогут)"
   ]
  },
  {
   "cell_type": "markdown",
   "metadata": {},
   "source": [
    "Такая запись эквивалентна двум вложенным менеджерам контекста:"
   ]
  },
  {
   "cell_type": "code",
   "execution_count": null,
   "metadata": {
    "collapsed": true
   },
   "outputs": [],
   "source": [
    "with acquire_resource() as r:\n",
    "    with acquire_other_resource() as other:\n",
    "        do_something(r, other)"
   ]
  },
  {
   "cell_type": "markdown",
   "metadata": {},
   "source": [
    "И раскручиваться они будут в обратном порядке"
   ]
  },
  {
   "cell_type": "markdown",
   "metadata": {},
   "source": [
    "Можно также использовать оператор `with` без указания имени переменной:"
   ]
  },
  {
   "cell_type": "code",
   "execution_count": null,
   "metadata": {
    "collapsed": true
   },
   "outputs": [],
   "source": [
    "with acquire_resource():\n",
    "    do_something()"
   ]
  },
  {
   "cell_type": "markdown",
   "metadata": {},
   "source": [
    "### Примеры менеджеров контекста: opened"
   ]
  },
  {
   "cell_type": "code",
   "execution_count": null,
   "metadata": {
    "collapsed": true
   },
   "outputs": [],
   "source": [
    "from functools import partial\n",
    "class opened:\n",
    "    def __init__(self, path, *args, **kwargs):\n",
    "        self.opener = partial(open, path, *args, **kwargs)\n",
    "\n",
    "    def __enter__(self):\n",
    "        self.handle = self.opener()\n",
    "        return self.handle\n",
    "\n",
    "    def __exit__(self, *exc_info):\n",
    "        self.handle.close()\n",
    "        del self.handle\n",
    "        # Почему можно обойтись без return?\n",
    "\n",
    "with opened(\"./example.txt\", mode=\"rt\") as handle:\n",
    "    pass"
   ]
  },
  {
   "cell_type": "markdown",
   "metadata": {},
   "source": [
    "**Капитан сообщает:** \n",
    "\n",
    "`opened` интересен только в качестве примера, потому что файлы в Python уже поддерживают протокол менеджеров контекста."
   ]
  },
  {
   "cell_type": "markdown",
   "metadata": {},
   "source": [
    "### Примеры менеджеров контекста: модуль tempfile"
   ]
  },
  {
   "cell_type": "markdown",
   "metadata": {},
   "source": [
    "Модуль `tempfile` реализует классы для работы с временными файлами."
   ]
  },
  {
   "cell_type": "markdown",
   "metadata": {},
   "source": [
    "Все классы реализуют протокол менеджеров контекста, которые работают так же, как и для обычных файлов."
   ]
  },
  {
   "cell_type": "markdown",
   "metadata": {},
   "source": [
    "Интересный пример — класс `TemporaryFile`, который автоматически удаляет временный файл при выходе из менеджера контекста:"
   ]
  },
  {
   "cell_type": "code",
   "execution_count": null,
   "metadata": {
    "collapsed": true
   },
   "outputs": [],
   "source": [
    "import tempfile\n",
    "with tempfile.TemporaryFile() as handle:\n",
    "    path = handle.name\n",
    "    print(path)"
   ]
  },
  {
   "cell_type": "code",
   "execution_count": null,
   "metadata": {
    "collapsed": true
   },
   "outputs": [],
   "source": [
    "open(path)"
   ]
  },
  {
   "cell_type": "markdown",
   "metadata": {},
   "source": [
    "### Примеры менеджеров контекста: syncronized"
   ]
  },
  {
   "cell_type": "code",
   "execution_count": null,
   "metadata": {},
   "outputs": [],
   "source": [
    "import threading\n",
    "\n",
    "class synchronized:\n",
    "    def __init__(self):\n",
    "        self.lock = threading.Lock()\n",
    "\n",
    "    def __enter__(self):\n",
    "        self.lock.acquire()\n",
    "\n",
    "    def __exit__(self, *exc_info):\n",
    "        self.lock.release()\n",
    "\n",
    "with synchronized():\n",
    "    do_something()"
   ]
  },
  {
   "cell_type": "markdown",
   "metadata": {},
   "source": [
    "**Капитан сообщает:**\n",
    "\n",
    "Большая часть примитивов синхронизации в Python, включая класс `Lock`, реализует протокол менеджера контекста.\n",
    "\n",
    "Использовать менеджер `synchronized` не нужно — он интересен только в качестве примера."
   ]
  },
  {
   "cell_type": "markdown",
   "metadata": {},
   "source": [
    "### Примеры контекстных менеджеров: cd"
   ]
  },
  {
   "cell_type": "code",
   "execution_count": 18,
   "metadata": {},
   "outputs": [
    {
     "name": "stdout",
     "output_type": "stream",
     "text": [
      "/home/ubuntu/projects/labs.in.ua/anaconda.dev\n"
     ]
    }
   ],
   "source": [
    "import os\n",
    "\n",
    "class cd:\n",
    "    def __init__(self, path):\n",
    "        self.path = path\n",
    "\n",
    "    def __enter__(self):\n",
    "        self.saved_cwd = os.getcwd()\n",
    "        os.chdir(self.path)\n",
    "\n",
    "    def __exit__(self, *exc_info):\n",
    "        os.chdir(self.saved_cwd)\n",
    "\n",
    "print(os.getcwd())"
   ]
  },
  {
   "cell_type": "code",
   "execution_count": 20,
   "metadata": {},
   "outputs": [
    {
     "name": "stdout",
     "output_type": "stream",
     "text": [
      "/tmp\n",
      "/home/ubuntu/projects/labs.in.ua/anaconda.dev\n"
     ]
    }
   ],
   "source": [
    "with cd(\"/tmp\"):\n",
    "    print(os.getcwd())\n",
    "print(os.getcwd())"
   ]
  },
  {
   "cell_type": "markdown",
   "metadata": {},
   "source": [
    "### Менеджеры контекста: резюме"
   ]
  },
  {
   "cell_type": "markdown",
   "metadata": {},
   "source": [
    "Менеджеры контекста — удобный способ управлять жизненным циклом ресурсов в Python."
   ]
  },
  {
   "cell_type": "markdown",
   "metadata": {},
   "source": [
    "Для работы с менеджером контекста используется оператор **`with`**."
   ]
  },
  {
   "cell_type": "markdown",
   "metadata": {},
   "source": [
    "Менеджером контекста является экземпляр любого класса, реализующего методы **`__enter__`** и **`__exit__`**."
   ]
  },
  {
   "cell_type": "markdown",
   "metadata": {},
   "source": [
    "Некоторые встроенные типы _(например, файлы и примитивы синхронизации)_ уже поддерживают протокол менеджеров контекста — этим можно и нужно пользоваться при написании кода."
   ]
  },
  {
   "cell_type": "markdown",
   "metadata": {},
   "source": [
    "## Модуль contextlib"
   ]
  },
  {
   "cell_type": "markdown",
   "metadata": {},
   "source": [
    "### contextlib.closing"
   ]
  },
  {
   "cell_type": "markdown",
   "metadata": {},
   "source": [
    "Менеджер контекста `closing` обобщает логику уже известного нам `opened` на экземпляр любого класса, реализующего метод `close`."
   ]
  },
  {
   "cell_type": "markdown",
   "metadata": {},
   "source": [
    "Реализовать `closing` самому несложно, но приятно, когда в стандартной библиотеке языка есть и такие мелочи."
   ]
  },
  {
   "cell_type": "markdown",
   "metadata": {},
   "source": [
    "С помощью `closing` можно, например, безопасно работать с HTTP ресурсами:\n"
   ]
  },
  {
   "cell_type": "code",
   "execution_count": null,
   "metadata": {},
   "outputs": [],
   "source": [
    "from contextlib import closing\n",
    "from urllib.request import urlopen\n",
    "\n",
    "url = \"http://slides.in.ua\"\n",
    "\n",
    "with closing(urlopen(url)) as page:\n",
    "    do_something(page)"
   ]
  },
  {
   "cell_type": "markdown",
   "metadata": {},
   "source": [
    "### contextlib.redirect_stdout"
   ]
  },
  {
   "cell_type": "markdown",
   "metadata": {},
   "source": [
    "Менеджер контекста `redirect_stdout` позволяет локально перехватывать вывод в стандартный поток."
   ]
  },
  {
   "cell_type": "markdown",
   "metadata": {},
   "source": [
    "Пример использования:"
   ]
  },
  {
   "cell_type": "code",
   "execution_count": null,
   "metadata": {},
   "outputs": [],
   "source": [
    "import io\n",
    "from contextlib import redirect_stdout\n",
    "\n",
    "handle = io.StringIO()\n",
    "\n",
    "with redirect_stdout(handle):\n",
    "    print(\"Hello, World!\")\n",
    "\n",
    "handle.getvalue()"
   ]
  },
  {
   "cell_type": "markdown",
   "metadata": {},
   "source": [
    "**Ньюанс:** Если используется библиотека на C++, то её поток вывода не будет перенаправляться."
   ]
  },
  {
   "cell_type": "markdown",
   "metadata": {},
   "source": [
    "**Вопрос:** Как можно было бы реализовать `redirect_stdout`?"
   ]
  },
  {
   "cell_type": "markdown",
   "metadata": {},
   "source": [
    "### contextlib.suppress"
   ]
  },
  {
   "cell_type": "markdown",
   "metadata": {},
   "source": [
    "С помощью менеджера контекста `suppress` можно локально подавить исключения указанных типов:"
   ]
  },
  {
   "cell_type": "code",
   "execution_count": 26,
   "metadata": {
    "collapsed": true
   },
   "outputs": [],
   "source": [
    "from contextlib import suppress\n",
    "\n",
    "with suppress(FileNotFoundError):\n",
    "    os.remove(\"example.txt\")"
   ]
  },
  {
   "cell_type": "markdown",
   "metadata": {},
   "source": [
    "Реализация менеджера не хитра:"
   ]
  },
  {
   "cell_type": "code",
   "execution_count": 27,
   "metadata": {
    "collapsed": true
   },
   "outputs": [],
   "source": [
    "class supress:\n",
    "    def __init__(self, *suppressed):\n",
    "        self.suppressed = suppressed\n",
    "\n",
    "    def __enter__(self):\n",
    "        pass\n",
    "\n",
    "    def __exit__(self, exc_type, exc_value, tb):\n",
    "        return exc_type is not None and issubclass(exc_type, suppressed)"
   ]
  },
  {
   "cell_type": "markdown",
   "metadata": {},
   "source": [
    "При использовании `suppress`, как и в целом при работе с исключениями, стоит указывать наиболее специфичный тип исключения."
   ]
  },
  {
   "cell_type": "markdown",
   "metadata": {},
   "source": [
    "### contextlib.ContextDecorator"
   ]
  },
  {
   "cell_type": "markdown",
   "metadata": {},
   "source": [
    "Базовый класс `ContextDecorator` позволяет объявлять менеджеры контекста, которые можно использовать как декораторы."
   ]
  },
  {
   "cell_type": "markdown",
   "metadata": {},
   "source": [
    "Зачем это нужно?"
   ]
  },
  {
   "cell_type": "code",
   "execution_count": 4,
   "metadata": {},
   "outputs": [],
   "source": [
    "def f():\n",
    "    with context():\n",
    "        pass  # ..."
   ]
  },
  {
   "cell_type": "code",
   "execution_count": null,
   "metadata": {},
   "outputs": [],
   "source": [
    "@context()\n",
    "def f():\n",
    "    pass  # ..."
   ]
  },
  {
   "cell_type": "markdown",
   "metadata": {},
   "source": [
    "Переход к синтаксису декораторов:\n",
    "* подчеркивает, что менеджер контекста применяется ко всему телу функции,\n",
    "* позволяет сэкономить 4 пробела отступов :)"
   ]
  },
  {
   "cell_type": "markdown",
   "metadata": {},
   "source": [
    "**Вопрос**: Как должен быть реализован менеджер контекста, чтобы его можно было использовать в качестве декоратора?"
   ]
  },
  {
   "cell_type": "markdown",
   "metadata": {},
   "source": [
    "### Менеджеры контекста и декораторы"
   ]
  },
  {
   "cell_type": "markdown",
   "metadata": {},
   "source": [
    "Для того, чтобы менеджер контекста можно было использовать как декоратор, достаточно унаследовать его от `ContextDecorator` _(примесь)_."
   ]
  },
  {
   "cell_type": "markdown",
   "metadata": {},
   "source": [
    "Модифицируем менеджер suppress из модуля contextlib, чтобы с помощью него можно было подавлять исключения во всей функции:"
   ]
  },
  {
   "cell_type": "code",
   "execution_count": 28,
   "metadata": {
    "collapsed": true
   },
   "outputs": [],
   "source": [
    "from contextlib import suppress, ContextDecorator\n",
    "\n",
    "class suppressed(suppress, ContextDecorator):\n",
    "    pass\n",
    "\n",
    "@suppressed(IOError)\n",
    "def do_something():\n",
    "    pass"
   ]
  },
  {
   "cell_type": "markdown",
   "metadata": {},
   "source": [
    "### contextlib.ExitStack"
   ]
  },
  {
   "cell_type": "markdown",
   "metadata": {},
   "source": [
    "Что делать, если количество ресурсов может быть произвольным? Например:\n"
   ]
  },
  {
   "cell_type": "code",
   "execution_count": null,
   "metadata": {
    "collapsed": true
   },
   "outputs": [],
   "source": [
    "def merge_logs(output_path, *logs):\n",
    "    handles = [open(log) for log in logs]\n",
    "    \n",
    "    with open(output_path, \"wt\") as output:\n",
    "        merge(output, handles)\n",
    "        \n",
    "    for handle in handles:\n",
    "        handle.close()"
   ]
  },
  {
   "cell_type": "markdown",
   "metadata": {},
   "source": [
    "Правильный ответ: `ExitStack`."
   ]
  },
  {
   "cell_type": "markdown",
   "metadata": {},
   "source": [
    "Менеджер `ExitStack` позволяет управлять произвольным количеством менеджеров контекста:"
   ]
  },
  {
   "cell_type": "code",
   "execution_count": 29,
   "metadata": {
    "collapsed": true
   },
   "outputs": [],
   "source": [
    "from contextlib import ExitStack\n",
    "\n",
    "def merge_logs(output_path, *logs):\n",
    "    with ExitStack() as stack:\n",
    "        handles = [stack.enter_context(open(log)) for log in logs]\n",
    "        \n",
    "        output = open(output_path, \"wt\")\n",
    "        stack.enter_context(output)\n",
    "        \n",
    "        merge(output, handles)"
   ]
  },
  {
   "cell_type": "markdown",
   "metadata": {},
   "source": [
    "### “Семантика” менеджера ExitStack"
   ]
  },
  {
   "cell_type": "markdown",
   "metadata": {},
   "source": [
    "Менеджер `ExitStack` поддерживает стек вложенных менеджеров контекста:"
   ]
  },
  {
   "cell_type": "code",
   "execution_count": null,
   "metadata": {},
   "outputs": [],
   "source": [
    "with ExitStack() as stack:\n",
    "    stack.enter_context(resource_1)\n",
    "    stack.enter_context(resource_2)\n",
    "    do_something(resource_1, resource_2)"
   ]
  },
  {
   "cell_type": "markdown",
   "metadata": {},
   "source": [
    "При выходе из контекста, `ExitStack` обходит список вложенных менеджеров контекста в обратном порядке и вызывает у каждого менеджера метод `__exit__`."
   ]
  },
  {
   "cell_type": "markdown",
   "metadata": {},
   "source": [
    "Менеджер `ExitStack` корректно обрабатывает ситуации,\n",
    "* когда метод `__exit__` подавил исключение\n",
    "* когда в процессе работы метода `__exit__` возникло новое исключение"
   ]
  },
  {
   "cell_type": "markdown",
   "metadata": {},
   "source": [
    "### Модуль contextlib: резюме"
   ]
  },
  {
   "cell_type": "markdown",
   "metadata": {},
   "source": [
    "Модуль `contextlib` содержит функции и классы, украшающие жизнь любителя менеджеров контекста."
   ]
  }
 ],
 "metadata": {
  "kernelspec": {
   "display_name": "Python 3",
   "language": "python",
   "name": "python3"
  },
  "language_info": {
   "codemirror_mode": {
    "name": "ipython",
    "version": 3
   },
   "file_extension": ".py",
   "mimetype": "text/x-python",
   "name": "python",
   "nbconvert_exporter": "python",
   "pygments_lexer": "ipython3",
   "version": "3.6.5"
  }
 },
 "nbformat": 4,
 "nbformat_minor": 2
}
