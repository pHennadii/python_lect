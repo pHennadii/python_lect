{
 "cells": [
  {
   "cell_type": "markdown",
   "metadata": {
    "slideshow": {
     "slide_type": "-"
    }
   },
   "source": [
    "# <span style=\"color: blue;\">Генераторы</span>"
   ]
  },
  {
   "cell_type": "markdown",
   "metadata": {},
   "source": [
    "### Что такое генератор?"
   ]
  },
  {
   "cell_type": "markdown",
   "metadata": {},
   "source": [
    "Генератор — это функция, которая использует не только оператор `return`, но и оператор `yield`."
   ]
  },
  {
   "cell_type": "markdown",
   "metadata": {},
   "source": [
    "В результате выполнения оператора `yield` работа функции приостанавливается, а не прерывается, как при использовании оператора `return`."
   ]
  },
  {
   "cell_type": "markdown",
   "metadata": {},
   "source": [
    "Пример:"
   ]
  },
  {
   "cell_type": "code",
   "execution_count": null,
   "metadata": {
    "collapsed": true
   },
   "outputs": [],
   "source": [
    "def g():\n",
    "    print(\"Started\")\n",
    "    x = 42\n",
    "    yield x  # точка остановки в генераторе (\"пауза\")\n",
    "    x += 1\n",
    "    yield x\n",
    "    print(\"Done\")"
   ]
  },
  {
   "cell_type": "code",
   "execution_count": null,
   "metadata": {},
   "outputs": [],
   "source": [
    "type(g)"
   ]
  },
  {
   "cell_type": "code",
   "execution_count": null,
   "metadata": {},
   "outputs": [],
   "source": [
    "gen = g()  # вроде бы функция ничего не возвращает?\n",
    "type(gen)  # но получаем специальный объект типа `generator`"
   ]
  },
  {
   "cell_type": "code",
   "execution_count": null,
   "metadata": {},
   "outputs": [],
   "source": [
    "next(gen)  # результат `next` -- то, что написано у `yield`"
   ]
  },
  {
   "cell_type": "code",
   "execution_count": null,
   "metadata": {},
   "outputs": [],
   "source": [
    "next(gen)"
   ]
  },
  {
   "cell_type": "code",
   "execution_count": null,
   "metadata": {},
   "outputs": [],
   "source": [
    "next(gen)  # что будет здесь?"
   ]
  },
  {
   "cell_type": "markdown",
   "metadata": {},
   "source": [
    "Подробнее: http://python.org/dev/peps/pep-0255"
   ]
  },
  {
   "cell_type": "markdown",
   "metadata": {},
   "source": [
    "### Примеры генераторов: unique"
   ]
  },
  {
   "cell_type": "markdown",
   "metadata": {},
   "source": [
    "С помощью `yield` можно писать итераторы более удобно"
   ]
  },
  {
   "cell_type": "code",
   "execution_count": null,
   "metadata": {},
   "outputs": [],
   "source": [
    "def unique(iterable, seen=None):\n",
    "    seen = set(seen or [])\n",
    "    for item in iterable:\n",
    "        if item not in seen:\n",
    "            seen.add(item)\n",
    "            yield item  # каждый новый элемент будет возвращаться генератором\n",
    "\n",
    "xs = [1, 1, 2, 3]\n",
    "unique(xs)"
   ]
  },
  {
   "cell_type": "code",
   "execution_count": null,
   "metadata": {},
   "outputs": [],
   "source": [
    "list(unique(xs))"
   ]
  },
  {
   "cell_type": "markdown",
   "metadata": {},
   "source": [
    "Генераторы -- это итераторы, поэтому есть реализация оператора **`in`** по умолчанию."
   ]
  },
  {
   "cell_type": "code",
   "execution_count": null,
   "metadata": {},
   "outputs": [],
   "source": [
    "1 in unique(xs)"
   ]
  },
  {
   "cell_type": "markdown",
   "metadata": {},
   "source": [
    "Генератор можно исчерпать _(также как и итератор)_"
   ]
  },
  {
   "cell_type": "code",
   "execution_count": null,
   "metadata": {
    "collapsed": true
   },
   "outputs": [],
   "source": [
    "def g():\n",
    "    for i in range(5):\n",
    "        print(i)\n",
    "        yield i\n",
    "\n",
    "gen = g()"
   ]
  },
  {
   "cell_type": "code",
   "execution_count": null,
   "metadata": {
    "scrolled": true
   },
   "outputs": [],
   "source": [
    "2 in gen"
   ]
  },
  {
   "cell_type": "code",
   "execution_count": null,
   "metadata": {
    "scrolled": true
   },
   "outputs": [],
   "source": [
    "2 in gen"
   ]
  },
  {
   "cell_type": "markdown",
   "metadata": {},
   "source": [
    "### Примеры генераторов: map"
   ]
  },
  {
   "cell_type": "code",
   "execution_count": null,
   "metadata": {},
   "outputs": [],
   "source": [
    "def map(func, iterable, *rest):\n",
    "    for args in zip(iterable, *rest):\n",
    "        yield func(*args)\n",
    "\n",
    "xs = range(5)\n",
    "map(lambda x: x * x, xs)"
   ]
  },
  {
   "cell_type": "code",
   "execution_count": null,
   "metadata": {},
   "outputs": [],
   "source": [
    "list(map(lambda x: x * x, xs))"
   ]
  },
  {
   "cell_type": "code",
   "execution_count": null,
   "metadata": {},
   "outputs": [],
   "source": [
    "9 in map(lambda x: x * x, xs)"
   ]
  },
  {
   "cell_type": "markdown",
   "metadata": {},
   "source": [
    "### Примеры генераторов: chain"
   ]
  },
  {
   "cell_type": "code",
   "execution_count": null,
   "metadata": {},
   "outputs": [],
   "source": [
    "def chain(*iterables):\n",
    "    for iterable in iterables:\n",
    "        for item in iterable:\n",
    "            yield item\n",
    "\n",
    "xs = range(3)\n",
    "ys = [42]\n",
    "chain(xs, ys)"
   ]
  },
  {
   "cell_type": "code",
   "execution_count": null,
   "metadata": {},
   "outputs": [],
   "source": [
    "list(chain(xs, ys))"
   ]
  },
  {
   "cell_type": "code",
   "execution_count": null,
   "metadata": {},
   "outputs": [],
   "source": [
    "42 in chain(xs, ys)"
   ]
  },
  {
   "cell_type": "markdown",
   "metadata": {},
   "source": [
    "### Примеры генераторов: count и enumerate"
   ]
  },
  {
   "cell_type": "code",
   "execution_count": null,
   "metadata": {},
   "outputs": [],
   "source": [
    "def count(start=0):\n",
    "    while True:\n",
    "        yield start\n",
    "        start += 1\n",
    "\n",
    "next(count())"
   ]
  },
  {
   "cell_type": "code",
   "execution_count": null,
   "metadata": {},
   "outputs": [],
   "source": [
    "counter = count()\n",
    "next(counter)"
   ]
  },
  {
   "cell_type": "code",
   "execution_count": null,
   "metadata": {},
   "outputs": [],
   "source": [
    "next(counter)"
   ]
  },
  {
   "cell_type": "code",
   "execution_count": null,
   "metadata": {},
   "outputs": [],
   "source": [
    "list(count())  # так лучше не делать :)"
   ]
  },
  {
   "cell_type": "code",
   "execution_count": null,
   "metadata": {},
   "outputs": [],
   "source": [
    "def enumerate(iterable, start=0):\n",
    "    pass  # как?\n",
    "\n",
    "list(enumerate(\"abc\"))\n",
    "# хотим получить: [(0, 'a'), (1, 'b'), (2, 'c')]"
   ]
  },
  {
   "cell_type": "markdown",
   "metadata": {},
   "source": [
    "**Ответ:**\n",
    "\n",
    "&nbsp;\n",
    "\n",
    "&nbsp;\n",
    "\n",
    "&nbsp;\n",
    "\n",
    "&nbsp;\n",
    "\n",
    "_(просто чтобы не проскролить к этому моменту слишком быстро)_"
   ]
  },
  {
   "cell_type": "code",
   "execution_count": null,
   "metadata": {},
   "outputs": [],
   "source": [
    "def enumerate(iterable, start=0):\n",
    "    return zip(count(), iterable)\n",
    "\n",
    "list(enumerate(\"abc\"))"
   ]
  },
  {
   "cell_type": "markdown",
   "metadata": {},
   "source": [
    "### Переиспользование генераторов"
   ]
  },
  {
   "cell_type": "markdown",
   "metadata": {},
   "source": [
    "Основное правило переиспользования генераторов: **не делайте этого**."
   ]
  },
  {
   "cell_type": "code",
   "execution_count": null,
   "metadata": {
    "collapsed": true
   },
   "outputs": [],
   "source": [
    "def g():\n",
    "    yield 42\n",
    "\n",
    "gen = g()\n",
    "list(gen)"
   ]
  },
  {
   "cell_type": "code",
   "execution_count": null,
   "metadata": {
    "collapsed": true
   },
   "outputs": [],
   "source": [
    "list(gen) # не тут-то было!"
   ]
  },
  {
   "cell_type": "markdown",
   "metadata": {},
   "source": [
    "Если вы хотите переиспользовать генератор, подумайте ещё раз."
   ]
  },
  {
   "cell_type": "markdown",
   "metadata": {},
   "source": [
    "Если вы уверены, что без переиспользования не обойтись, воспользуйтесь функцией `tee` из модуля `itertools`."
   ]
  },
  {
   "cell_type": "markdown",
   "metadata": {},
   "source": [
    "### Коллекции и генераторы"
   ]
  },
  {
   "cell_type": "markdown",
   "metadata": {},
   "source": [
    "Генераторы позволяют компактно реализовывать метод `__iter__` у коллекций."
   ]
  },
  {
   "cell_type": "markdown",
   "metadata": {},
   "source": [
    "Рассмотрим уже знакомый нам класс бинарного дерева:"
   ]
  },
  {
   "cell_type": "code",
   "execution_count": null,
   "metadata": {},
   "outputs": [],
   "source": [
    "class BinaryTree:\n",
    "    def __init__(self, value, left=(), right=()):  # почему tuple(), а не None ?\n",
    "        self.value = value\n",
    "        self.left, self.right = left, right\n",
    "        \n",
    "    def __iter__(self):  # inorder\n",
    "        for node in self.left:\n",
    "            yield node.value\n",
    "        yield self.value\n",
    "        for node in self.right:\n",
    "            yield node.value\n",
    "            \n",
    "for b in BinaryTree(10):\n",
    "    print(b)"
   ]
  },
  {
   "cell_type": "markdown",
   "metadata": {},
   "source": [
    "Плюс генераторов в том, что они позволяют обойтись без лишних классов, например, `InOrderIterator`."
   ]
  },
  {
   "cell_type": "markdown",
   "metadata": {},
   "source": [
    "### Выражения-генераторы"
   ]
  },
  {
   "cell_type": "markdown",
   "metadata": {},
   "source": [
    "Напоминание: в Python есть генераторы списков, множеств и словарей."
   ]
  },
  {
   "cell_type": "markdown",
   "metadata": {},
   "source": [
    "Выражения-генераторы работают аналогичным образом, но не порождают коллекцию в процессе работы:"
   ]
  },
  {
   "cell_type": "code",
   "execution_count": null,
   "metadata": {},
   "outputs": [],
   "source": [
    "gen = (x ** 2 for x in range(10 ** 42) if x % 2 == 1)\n",
    "gen"
   ]
  },
  {
   "cell_type": "code",
   "execution_count": null,
   "metadata": {},
   "outputs": [],
   "source": [
    "next(gen)"
   ]
  },
  {
   "cell_type": "code",
   "execution_count": null,
   "metadata": {},
   "outputs": [],
   "source": [
    "list(filter(lambda x: x % 2 == 1,\n",
    "            (x ** 2 for x in range(10))))"
   ]
  },
  {
   "cell_type": "markdown",
   "metadata": {},
   "source": [
    "Если выражение-генератор — единственный аргумент функции, то скобки можно опустить:"
   ]
  },
  {
   "cell_type": "code",
   "execution_count": null,
   "metadata": {
    "collapsed": true
   },
   "outputs": [],
   "source": [
    "sum(x ** 2 for x in range(10) if x % 2 == 1)"
   ]
  },
  {
   "cell_type": "markdown",
   "metadata": {},
   "source": [
    "### Выражение yield"
   ]
  },
  {
   "cell_type": "markdown",
   "metadata": {},
   "source": [
    "Оператор `yield` можно использовать как выражение:"
   ]
  },
  {
   "cell_type": "code",
   "execution_count": null,
   "metadata": {},
   "outputs": [],
   "source": [
    "def g():\n",
    "    res = yield  # точка входа 1\n",
    "    print(\"Got {!r}\".format(res))\n",
    "    res = yield 42  # точка входа 2\n",
    "    print(\"Got {!r}\".format(res))\n",
    "\n",
    "gen = g()\n",
    "next(gen) # \"промотаем\" до первого yield\n",
    "next(gen) # \"промотаем\" до второго yield"
   ]
  },
  {
   "cell_type": "code",
   "execution_count": null,
   "metadata": {},
   "outputs": [],
   "source": [
    "next(gen) # выполним оставшуюся часть генератора"
   ]
  },
  {
   "cell_type": "markdown",
   "metadata": {},
   "source": [
    "На первый взгляд выражение `yield` выглядит бесполезно, но первое впечатление обманчиво."
   ]
  },
  {
   "cell_type": "markdown",
   "metadata": {},
   "source": [
    "### Интерфейс генераторов: send"
   ]
  },
  {
   "cell_type": "markdown",
   "metadata": {},
   "source": [
    "Метод **`send`** возобновляет выполнение генератора и “отправляет” свой аргумент в следующий `yield`."
   ]
  },
  {
   "cell_type": "code",
   "execution_count": null,
   "metadata": {},
   "outputs": [],
   "source": [
    "gen = g()\n",
    "gen.send(\"foobar\")"
   ]
  },
  {
   "cell_type": "markdown",
   "metadata": {},
   "source": [
    "**Ошибка:** Отправлять что-то можно только в инициализированный генератор."
   ]
  },
  {
   "cell_type": "markdown",
   "metadata": {},
   "source": [
    "Чтобы инициализировать генератор нужно \"отправить\" ему `None` (чтобы промотать до первого `yield`). \n",
    "\n",
    "Функция `next` делает именно это:"
   ]
  },
  {
   "cell_type": "code",
   "execution_count": null,
   "metadata": {
    "collapsed": true
   },
   "outputs": [],
   "source": [
    "gen = g()\n",
    "next(gen)"
   ]
  },
  {
   "cell_type": "markdown",
   "metadata": {},
   "source": [
    "В общем случае метод **`send`** делает следующее:\n",
    "* отправляет свой аргумент в генератор (и его значение записывается в переменную слева от **`yield`**)\n",
    "* вызывает **`next`** у генератора"
   ]
  },
  {
   "cell_type": "markdown",
   "metadata": {},
   "source": [
    "Результатом метода **`send`** является следующее значение генератора (или исключение `StopIteration`, если такого значения нет).<br/>\n",
    "_(то есть возвращает то же, что и **`next`**)_"
   ]
  },
  {
   "cell_type": "code",
   "execution_count": null,
   "metadata": {},
   "outputs": [],
   "source": [
    "gen = g()\n",
    "gen.send(None)  # ≡ next(gen)\n",
    "gen.send(\"foobar\")"
   ]
  },
  {
   "cell_type": "code",
   "execution_count": null,
   "metadata": {},
   "outputs": [],
   "source": [
    "gen.send(\"boo\")"
   ]
  },
  {
   "cell_type": "markdown",
   "metadata": {},
   "source": [
    "### Интерфейс генераторов: throw"
   ]
  },
  {
   "cell_type": "markdown",
   "metadata": {},
   "source": [
    "Метод **`throw`**:\n",
    "* поднимает переданное исключение в месте, где генератор приостановил исполнение <br/>\n",
    "_(т.е. как будто мы в текущей строчке с `yield` написали `raise`)_\n",
    "* и возвращает следующее значение генератора (если исключение обработано)<br/>\n",
    "_(также как это делали `next` и `send`)_"
   ]
  },
  {
   "cell_type": "code",
   "execution_count": null,
   "metadata": {},
   "outputs": [],
   "source": [
    "def g():\n",
    "    try:\n",
    "        yield 42\n",
    "    except Exception as e:\n",
    "        yield e\n",
    "\n",
    "gen = g()\n",
    "next(gen)  # инициализация генератора"
   ]
  },
  {
   "cell_type": "code",
   "execution_count": null,
   "metadata": {},
   "outputs": [],
   "source": [
    "gen.throw(ValueError, \"something is wrong\")"
   ]
  },
  {
   "cell_type": "code",
   "execution_count": null,
   "metadata": {},
   "outputs": [],
   "source": [
    "gen.throw(RuntimeError, \"another error\")  # что будет здесь?"
   ]
  },
  {
   "cell_type": "markdown",
   "metadata": {},
   "source": [
    "Если генератор не обработал брошенное в него исключение, то выполнение генератора прекращается и исключение передаётся наверх по стеку вызовов."
   ]
  },
  {
   "cell_type": "code",
   "execution_count": null,
   "metadata": {},
   "outputs": [],
   "source": [
    "def g():\n",
    "    try:\n",
    "        yield 42\n",
    "    except Exception as e:\n",
    "        yield 'error :('\n",
    "        yield e\n",
    "\n",
    "gen = g()\n",
    "next(gen)  # инициализация генератора"
   ]
  },
  {
   "cell_type": "code",
   "execution_count": null,
   "metadata": {},
   "outputs": [],
   "source": [
    "gen.throw(ValueError)"
   ]
  },
  {
   "cell_type": "code",
   "execution_count": null,
   "metadata": {},
   "outputs": [],
   "source": [
    "gen.throw(RuntimeError)"
   ]
  },
  {
   "cell_type": "markdown",
   "metadata": {},
   "source": [
    "### Интерфейс генераторов: close"
   ]
  },
  {
   "cell_type": "markdown",
   "metadata": {},
   "source": [
    "Метод `close` поднимает специальное исключение `GeneratorExit` в месте, где генератор приостановил исполнение:"
   ]
  },
  {
   "cell_type": "markdown",
   "metadata": {},
   "source": [
    "Т.к. `GeneratorExit` наследник от `BaseException`, то он не уязвим для \"`except Exception:`\""
   ]
  },
  {
   "cell_type": "code",
   "execution_count": null,
   "metadata": {
    "collapsed": true
   },
   "outputs": [],
   "source": [
    "def g():\n",
    "    try:\n",
    "        yield 42\n",
    "        yield 43\n",
    "        yield 44\n",
    "    finally:\n",
    "        print(\"Done\")"
   ]
  },
  {
   "cell_type": "code",
   "execution_count": null,
   "metadata": {},
   "outputs": [],
   "source": [
    "gen = g()\n",
    "next(gen)"
   ]
  },
  {
   "cell_type": "code",
   "execution_count": null,
   "metadata": {
    "scrolled": true
   },
   "outputs": [],
   "source": [
    "gen.close()"
   ]
  },
  {
   "cell_type": "markdown",
   "metadata": {},
   "source": [
    "Если всё хорошо, то метод `close` завершает работу генератора и ничего не возвращает."
   ]
  },
  {
   "cell_type": "markdown",
   "metadata": {},
   "source": [
    "Что может пойти не так? Генератор может обработать исключение `GeneratorExit` и поднять другое исключение."
   ]
  },
  {
   "cell_type": "code",
   "execution_count": null,
   "metadata": {},
   "outputs": [],
   "source": [
    "def g2():\n",
    "    try:\n",
    "        yield 42\n",
    "        yield 43\n",
    "    except GeneratorExit:\n",
    "        raise RuntimeError(\"Don't close me!\")\n",
    "        \n",
    "gen_2 = g2()\n",
    "next(gen_2)"
   ]
  },
  {
   "cell_type": "code",
   "execution_count": null,
   "metadata": {
    "scrolled": true
   },
   "outputs": [],
   "source": [
    "gen_2.close()"
   ]
  },
  {
   "cell_type": "markdown",
   "metadata": {},
   "source": [
    "Нельзя обрабатывать `GeneratorExit` (и тем самым игнорировать его):"
   ]
  },
  {
   "cell_type": "code",
   "execution_count": null,
   "metadata": {},
   "outputs": [],
   "source": [
    "def g3():\n",
    "    try:\n",
    "        yield 42\n",
    "    except GeneratorExit:\n",
    "        print(\"Trying to ignore...\")\n",
    "        yield -1\n",
    "        \n",
    "gen_3 = g3()\n",
    "next(gen_3)"
   ]
  },
  {
   "cell_type": "code",
   "execution_count": null,
   "metadata": {
    "scrolled": true
   },
   "outputs": [],
   "source": [
    "gen_3.close()"
   ]
  },
  {
   "cell_type": "markdown",
   "metadata": {},
   "source": [
    "### Генераторы ∼ сопрограммы (aka coroutines)"
   ]
  },
  {
   "cell_type": "markdown",
   "metadata": {},
   "source": [
    "**Сопрограмма** — это программа, которая может иметь больше одной точки входа, а также поддерживает остановку и продолжение с сохранением состояния."
   ]
  },
  {
   "cell_type": "markdown",
   "metadata": {},
   "source": [
    "Звучит как определение генератора наоборот:"
   ]
  },
  {
   "cell_type": "code",
   "execution_count": null,
   "metadata": {},
   "outputs": [],
   "source": [
    "def grep(pattern):\n",
    "    print(\"Looking for {!r}\".format(pattern))\n",
    "    while True:\n",
    "        line = yield\n",
    "        if pattern in line:\n",
    "            print(line)\n",
    "\n",
    "gen = grep(\"Gotcha!\")\n",
    "next(gen)"
   ]
  },
  {
   "cell_type": "code",
   "execution_count": 18,
   "metadata": {},
   "outputs": [],
   "source": [
    "gen.send(\"This line doesn't have what we're looking for\")"
   ]
  },
  {
   "cell_type": "code",
   "execution_count": null,
   "metadata": {
    "scrolled": true
   },
   "outputs": [],
   "source": [
    "gen.send(\"This one does. Gotcha!\")"
   ]
  },
  {
   "cell_type": "markdown",
   "metadata": {},
   "source": [
    "Подробнее: http://dabeaz.com/coroutines"
   ]
  },
  {
   "cell_type": "markdown",
   "metadata": {},
   "source": [
    "### Удобная инициализация сопрограмм"
   ]
  },
  {
   "cell_type": "markdown",
   "metadata": {},
   "source": [
    "Прежде, чем начать работать с сопрограммой, её нужно инициализировать с помощью вызова функции `next`."
   ]
  },
  {
   "cell_type": "markdown",
   "metadata": {},
   "source": [
    "Объявим декоратор `coroutine`, который скроет эту деталь реализации:"
   ]
  },
  {
   "cell_type": "code",
   "execution_count": null,
   "metadata": {},
   "outputs": [],
   "source": [
    "import functools\n",
    "\n",
    "def coroutine(g):\n",
    "    @functools.wraps(g)\n",
    "    def inner(*args, **kwargs):\n",
    "        gen = g(*args, **kwargs)\n",
    "        next(gen)\n",
    "        return gen\n",
    "    return inner\n",
    "\n",
    "@coroutine\n",
    "def grep(pattern):\n",
    "    print(\"Looking for {!r}\".format(pattern))\n",
    "    while True:\n",
    "        line = yield\n",
    "        if pattern in line:\n",
    "            print(line)\n",
    "\n",
    "gen = grep(\"Gotcha!\")\n",
    "gen.send(\"This line doesn't have what we're looking for\")\n",
    "gen.send(\"This one does. Gotcha!\")\n",
    "gen.send(\"One more line for ya!\")"
   ]
  },
  {
   "cell_type": "markdown",
   "metadata": {},
   "source": [
    "### Генераторы ∼ легкие потоки (aka green threads)"
   ]
  },
  {
   "cell_type": "markdown",
   "metadata": {},
   "source": [
    "**Но об этом не сейчас**"
   ]
  },
  {
   "cell_type": "markdown",
   "metadata": {},
   "source": [
    "### Оператор yield from"
   ]
  },
  {
   "cell_type": "markdown",
   "metadata": {},
   "source": [
    "Оператор **`yield from`** позволяет делегировать выполнение другому генератору:"
   ]
  },
  {
   "cell_type": "code",
   "execution_count": null,
   "metadata": {
    "collapsed": true
   },
   "outputs": [],
   "source": [
    "def chain(*iterables):\n",
    "    for iterable in iterables:\n",
    "        yield from iterable"
   ]
  },
  {
   "cell_type": "markdown",
   "metadata": {},
   "source": [
    "Любые вызовы методов **`send`** и **`throw`** у родительского генератора будут переданы вложенному генератору без изменений."
   ]
  },
  {
   "cell_type": "markdown",
   "metadata": {},
   "source": [
    "`yield from` полезен когда нужно \"разбить\" генератор на кусочки. Он заменяет цикл с `yield` внутри."
   ]
  },
  {
   "cell_type": "markdown",
   "metadata": {},
   "source": [
    "Подробнее: http://python.org/dev/peps/pep-0380"
   ]
  },
  {
   "cell_type": "markdown",
   "metadata": {},
   "source": [
    "### Оператор return и исключение StopIteration"
   ]
  },
  {
   "cell_type": "markdown",
   "metadata": {},
   "source": [
    "Кроме оператора **`yield`** в теле генератора можно использовать оператор **`return`**."
   ]
  },
  {
   "cell_type": "markdown",
   "metadata": {},
   "source": [
    "На человеческом языке использование **`return`** означает:<br/>\n",
    "«У меня больше нет элементов, извини, возьми лучше вот это.»"
   ]
  },
  {
   "cell_type": "code",
   "execution_count": null,
   "metadata": {},
   "outputs": [],
   "source": [
    "def g():\n",
    "    yield 42\n",
    "    return ['something']  # держи!\n",
    "\n",
    "gen = g()\n",
    "next(gen)"
   ]
  },
  {
   "cell_type": "code",
   "execution_count": null,
   "metadata": {},
   "outputs": [],
   "source": [
    "next(gen)"
   ]
  },
  {
   "cell_type": "markdown",
   "metadata": {},
   "source": [
    "### `return `&nbsp;&nbsp;` ≠ `&nbsp;&nbsp;` raise StopIteration`\n"
   ]
  },
  {
   "cell_type": "markdown",
   "metadata": {},
   "source": [
    "Несмотря на схожесть, использование оператора **`return`** в генераторе не эквивалентно поднятию исключения **`StopIteration`**."
   ]
  },
  {
   "cell_type": "markdown",
   "metadata": {},
   "source": [
    "Контрпример:"
   ]
  },
  {
   "cell_type": "code",
   "execution_count": 28,
   "metadata": {
    "collapsed": true
   },
   "outputs": [],
   "source": [
    "def g():\n",
    "    try:\n",
    "        yield 42\n",
    "        raise StopIteration([])  # ≠ return []\n",
    "    except Exception as e:\n",
    "        pass"
   ]
  },
  {
   "cell_type": "markdown",
   "metadata": {},
   "source": [
    "### Использование return в выражении yield from"
   ]
  },
  {
   "cell_type": "markdown",
   "metadata": {},
   "source": [
    "Оператор **`yield from`**, как и оператор **`yield`**, можно использовать в качестве выражения."
   ]
  },
  {
   "cell_type": "markdown",
   "metadata": {},
   "source": [
    "При этом значением выражения **`yield from`** будет значение атрибута **`value`** у поднятого вложенным генератором исключения **`StopIteration`**:"
   ]
  },
  {
   "cell_type": "code",
   "execution_count": null,
   "metadata": {},
   "outputs": [],
   "source": [
    "def f():\n",
    "    yield 42\n",
    "    return ['something']\n",
    "\n",
    "def g():\n",
    "    res = yield from f()\n",
    "    print(\"Got {!r}\".format(res))\n",
    "\n",
    "gen = g()\n",
    "next(gen)"
   ]
  },
  {
   "cell_type": "code",
   "execution_count": null,
   "metadata": {},
   "outputs": [],
   "source": [
    "next(gen, 'finished')"
   ]
  },
  {
   "cell_type": "markdown",
   "metadata": {},
   "source": [
    "### Менеджеры контекста и генераторы: мотивация"
   ]
  },
  {
   "cell_type": "markdown",
   "metadata": {},
   "source": [
    "Протокол менеджеров контекста требует реализации двух методов: `__enter__` и `__exit_`."
   ]
  },
  {
   "cell_type": "markdown",
   "metadata": {},
   "source": [
    "Если мы хотим, чтобы у менеджера было какое-то состояние, то мы вынуждены также добавить метод `__init__`."
   ]
  },
  {
   "cell_type": "markdown",
   "metadata": {},
   "source": [
    "В итоге получаем:"
   ]
  },
  {
   "cell_type": "code",
   "execution_count": null,
   "metadata": {
    "collapsed": true
   },
   "outputs": [],
   "source": [
    "class cd:\n",
    "    def __init__(self, path):\n",
    "        self.path = path\n",
    "        \n",
    "    def __enter__(self):\n",
    "        self.saved_cwd = os.getcwd()\n",
    "        os.chdir(self.path)\n",
    "        \n",
    "    def __exit__(self, *exc_info):\n",
    "        os.chdir(self.saved_cwd)"
   ]
  },
  {
   "cell_type": "markdown",
   "metadata": {},
   "source": [
    "**Проблема:** Весьма длинновато выходит.."
   ]
  },
  {
   "cell_type": "markdown",
   "metadata": {},
   "source": [
    "### Менеджеры контекста и генераторы: @contextmanager"
   ]
  },
  {
   "cell_type": "markdown",
   "metadata": {},
   "source": [
    "Декоратор `contextmanage` из модуля `contextlib` принимает генератор специального вида и строит по нему менеджер контекста"
   ]
  },
  {
   "cell_type": "code",
   "execution_count": 35,
   "metadata": {
    "collapsed": true
   },
   "outputs": [],
   "source": [
    "from contextlib import contextmanager\n",
    "\n",
    "@contextmanager\n",
    "def cd(path): # __init__\n",
    "    # __enter__:\n",
    "    old_path = os.getcwd() \n",
    "    os.chdir(path)\n",
    "    try:\n",
    "        yield # --------- как бы разрез (здесь вклинивается `with`)\n",
    "    finally:\n",
    "        # __exit__:\n",
    "        os.chdir(old_path) "
   ]
  },
  {
   "cell_type": "markdown",
   "metadata": {},
   "source": [
    "Генераторы позволяют сократить количество синтаксического шума при реализации менеджеров контекста."
   ]
  },
  {
   "cell_type": "markdown",
   "metadata": {},
   "source": [
    "`try`...`finally` нужен так как в теле `with` может возникнуть исключение, а `__exit__` надо обработать в любом случае"
   ]
  },
  {
   "cell_type": "markdown",
   "metadata": {},
   "source": [
    "### Ещё один пример использования @contextmanager"
   ]
  },
  {
   "cell_type": "markdown",
   "metadata": {},
   "source": [
    "Метод `__enter__`, построенный декоратором `contextmanager`, возвращает аргумент оператора `yield`:"
   ]
  },
  {
   "cell_type": "code",
   "execution_count": null,
   "metadata": {},
   "outputs": [],
   "source": [
    "import tempfile\n",
    "import shutil\n",
    "\n",
    "@contextmanager\n",
    "def tempdir(): # __init__\n",
    "    outdir = tempfile.mkdtemp() # __enter__\n",
    "    try:\n",
    "        yield outdir            # ---------\n",
    "    finally:\n",
    "        shutil.rmtree(outdir)   # __exit__\n",
    "        \n",
    "with tempdir() as path:\n",
    "    print(path)"
   ]
  },
  {
   "cell_type": "markdown",
   "metadata": {},
   "source": [
    "### Генераторы: резюме"
   ]
  },
  {
   "cell_type": "markdown",
   "metadata": {},
   "source": [
    "Генератор в `Python` — это функция, которая использует операторы `yield` или `yield from`."
   ]
  },
  {
   "cell_type": "markdown",
   "metadata": {},
   "source": [
    "В мире `Python` генераторы вездесущи не менее, чем любимые всеми декораторы."
   ]
  },
  {
   "cell_type": "markdown",
   "metadata": {},
   "source": [
    "Мы поговорили о том, что генераторы можно использовать\n",
    "* как итераторы\n",
    "* как сопрограммы\n",
    "* как легкие потоки\n",
    "* для компактной реализации менеджеров контекста"
   ]
  }
 ],
 "metadata": {
  "kernelspec": {
   "display_name": "Python 3",
   "language": "python",
   "name": "python3"
  },
  "language_info": {
   "codemirror_mode": {
    "name": "ipython",
    "version": 3
   },
   "file_extension": ".py",
   "mimetype": "text/x-python",
   "name": "python",
   "nbconvert_exporter": "python",
   "pygments_lexer": "ipython3",
   "version": "3.6.5"
  }
 },
 "nbformat": 4,
 "nbformat_minor": 2
}
