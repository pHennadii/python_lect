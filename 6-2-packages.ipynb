{
 "cells": [
  {
   "cell_type": "markdown",
   "metadata": {
    "slideshow": {
     "slide_type": "-"
    }
   },
   "source": [
    "# <span style=\"color: blue;\">Пакеты</span>"
   ]
  },
  {
   "cell_type": "markdown",
   "metadata": {},
   "source": [
    "### Пакет == директория с модулями"
   ]
  },
  {
   "cell_type": "markdown",
   "metadata": {},
   "source": [
    "Пакеты позволяют группировать и структурировать код на Python."
   ]
  },
  {
   "cell_type": "markdown",
   "metadata": {},
   "source": [
    "Любая директория, содержащая файл `__init__.py`, автоматически становится пакетом."
   ]
  },
  {
   "cell_type": "markdown",
   "metadata": {},
   "source": [
    "В качестве примера рассмотрим"
   ]
  },
  {
   "cell_type": "raw",
   "metadata": {},
   "source": [
    "useful\n",
    "├── __init__.py  # !\n",
    "├── bar.py\n",
    "└── foo.py"
   ]
  },
  {
   "cell_type": "markdown",
   "metadata": {},
   "source": [
    "Импортируем пакет `useful`:"
   ]
  },
  {
   "cell_type": "code",
   "execution_count": null,
   "metadata": {
    "collapsed": true
   },
   "outputs": [],
   "source": [
    "import useful\n",
    "\n",
    "useful"
   ]
  },
  {
   "cell_type": "markdown",
   "metadata": {},
   "source": [
    "Теперь в момент импорта выполняется файл `__init__.py`"
   ]
  },
  {
   "cell_type": "markdown",
   "metadata": {},
   "source": [
    "Никакие другие модули в пакете не импортируются:"
   ]
  },
  {
   "cell_type": "code",
   "execution_count": null,
   "metadata": {
    "collapsed": true
   },
   "outputs": [],
   "source": [
    "useful.foo"
   ]
  },
  {
   "cell_type": "markdown",
   "metadata": {},
   "source": [
    "### Импорт модулей из пакета"
   ]
  },
  {
   "cell_type": "markdown",
   "metadata": {},
   "source": [
    "При импорте пакета импортируется только `__init__`.py"
   ]
  },
  {
   "cell_type": "markdown",
   "metadata": {},
   "source": [
    "Импорт модуля из пакета:"
   ]
  },
  {
   "cell_type": "code",
   "execution_count": null,
   "metadata": {
    "collapsed": true
   },
   "outputs": [],
   "source": [
    "import useful.foo\n",
    "\n",
    "useful  # пакет при этом также импортируется"
   ]
  },
  {
   "cell_type": "code",
   "execution_count": null,
   "metadata": {
    "collapsed": true
   },
   "outputs": [],
   "source": [
    "useful.foo"
   ]
  },
  {
   "cell_type": "markdown",
   "metadata": {},
   "source": [
    "Остальные модули необходимо импортировать явно:"
   ]
  },
  {
   "cell_type": "code",
   "execution_count": null,
   "metadata": {
    "collapsed": true
   },
   "outputs": [],
   "source": [
    "useful.bar"
   ]
  },
  {
   "cell_type": "markdown",
   "metadata": {},
   "source": [
    "Можно использовать для этого оператор `import` ... `from`:"
   ]
  },
  {
   "cell_type": "code",
   "execution_count": null,
   "metadata": {
    "collapsed": true
   },
   "outputs": [],
   "source": [
    "from useful import bar\n",
    "\n",
    "bar"
   ]
  },
  {
   "cell_type": "markdown",
   "metadata": {},
   "source": [
    "### Относительный импорт"
   ]
  },
  {
   "cell_type": "markdown",
   "metadata": {},
   "source": [
    "Примеры, которые мы видели ранее, использовали **абсолютный импорт** — вызов оператора `import` содержал имя пакета:"
   ]
  },
  {
   "cell_type": "code",
   "execution_count": null,
   "metadata": {
    "collapsed": true
   },
   "outputs": [],
   "source": [
    "import useful.foo\n",
    "from useful import bar"
   ]
  },
  {
   "cell_type": "markdown",
   "metadata": {},
   "source": [
    "Можно использовать **относительный** импорт _(т.е. относительно текущего пакета)_:"
   ]
  },
  {
   "cell_type": "code",
   "execution_count": null,
   "metadata": {
    "collapsed": true
   },
   "outputs": [],
   "source": [
    "from . import foo, bar\n",
    "#    ^ соответствует имени пакета, в котором вызывается импорт"
   ]
  },
  {
   "cell_type": "markdown",
   "metadata": {},
   "source": [
    "Зачем? Не нужно изменять импорты при переименовании или перемещении пакета."
   ]
  },
  {
   "cell_type": "markdown",
   "metadata": {},
   "source": [
    "**Но:** это не работает в интерактивной оболочке:"
   ]
  },
  {
   "cell_type": "code",
   "execution_count": null,
   "metadata": {
    "collapsed": true
   },
   "outputs": [],
   "source": [
    "from . import useful"
   ]
  },
  {
   "cell_type": "markdown",
   "metadata": {},
   "source": [
    "<br/>\n",
    "Подробнее: https://www.python.org/dev/peps/pep-0328"
   ]
  },
  {
   "cell_type": "markdown",
   "metadata": {},
   "source": [
    "### Вложенные пакеты (aka sub-packages)"
   ]
  },
  {
   "cell_type": "markdown",
   "metadata": {},
   "source": [
    "Внутри пакетов могут находиться не только модули, но и другие пакеты. Сделаем модуль `bar` пакетом:"
   ]
  },
  {
   "cell_type": "code",
   "execution_count": null,
   "metadata": {
    "collapsed": true
   },
   "outputs": [],
   "source": [
    "useful\n",
    "├── __init__.py\n",
    "├── bar\n",
    "│   ├── __init__.py\n",
    "│   ├── boo.py\n",
    "└── foo.py"
   ]
  },
  {
   "cell_type": "markdown",
   "metadata": {},
   "source": [
    "Синтаксически работа с вложенным пакетом `useful.bar` ничем не отличается от работы с его предшественником:"
   ]
  },
  {
   "cell_type": "code",
   "execution_count": null,
   "metadata": {
    "collapsed": true
   },
   "outputs": [],
   "source": [
    "import useful.bar\n",
    "\n",
    "useful.bar"
   ]
  },
  {
   "cell_type": "markdown",
   "metadata": {},
   "source": [
    "_Примечание:_ в модуле `useful.bar.boo` тоже можно использовать относительный импорт:"
   ]
  },
  {
   "cell_type": "code",
   "execution_count": null,
   "metadata": {
    "collapsed": true
   },
   "outputs": [],
   "source": [
    "from . import something\n",
    "from ..foo import something_else"
   ]
  },
  {
   "cell_type": "markdown",
   "metadata": {},
   "source": [
    "Две точки — на уровень вверх"
   ]
  },
  {
   "cell_type": "markdown",
   "metadata": {},
   "source": [
    "Три точки — на два уровня вверх, и так далее :)"
   ]
  },
  {
   "cell_type": "markdown",
   "metadata": {},
   "source": [
    "### Ещё немного об `__init__.py`: фасад"
   ]
  },
  {
   "cell_type": "markdown",
   "metadata": {},
   "source": [
    "Задача модуля `__init__`.py — инициализировать пакет, поэтому не стоит реализовывать в нём всю логику."
   ]
  },
  {
   "cell_type": "markdown",
   "metadata": {},
   "source": [
    "Что стоит делать в `__init__`.py?\n",
    "* Ничего.\n",
    "* Объявить глобальные для пакета переменные (может быть).\n",
    "* Оградить пакет фасадом, то есть импортировать имена из\n",
    "вложенных модулей и пакетов и определить `__all__`."
   ]
  },
  {
   "cell_type": "markdown",
   "metadata": {},
   "source": [
    "Фасад для пакета `useful`:"
   ]
  },
  {
   "cell_type": "code",
   "execution_count": null,
   "metadata": {
    "collapsed": true
   },
   "outputs": [],
   "source": [
    "useful\n",
    "├── __init__.py\n",
    "├── bar\n",
    "│   ├── __init__.py\n",
    "│   ├── boo.py\n",
    "└── foo.py"
   ]
  },
  {
   "cell_type": "code",
   "execution_count": null,
   "metadata": {
    "collapsed": true
   },
   "outputs": [],
   "source": [
    "# useful/bar/__init__.py:\n",
    "\n",
    "from .boo import *\n",
    "\n",
    "__all__ = boo.__all__"
   ]
  },
  {
   "cell_type": "code",
   "execution_count": null,
   "metadata": {
    "collapsed": true
   },
   "outputs": [],
   "source": [
    "# useful/__init__.py:\n",
    "\n",
    "from .foo import *\n",
    "from .bar import *\n",
    "\n",
    "__all__ = foo.__all__ + bar.__all__"
   ]
  },
  {
   "cell_type": "markdown",
   "metadata": {},
   "source": [
    "**Вопрос:** Почему в этом коде можно было обратиться к `foo.__all__`"
   ]
  },
  {
   "cell_type": "markdown",
   "metadata": {},
   "source": [
    "### Плюсы и минусы использования фасада в `__init__.py`"
   ]
  },
  {
   "cell_type": "markdown",
   "metadata": {},
   "source": [
    "**Плюсы:**"
   ]
  },
  {
   "cell_type": "markdown",
   "metadata": {},
   "source": [
    "Пользователю не нужно знать/запоминать внутреннюю структуру пакета и думать, с чем он работает: модулем или пакетом.\n",
    "* `from urllib import urlopen` \n",
    "* `from urllib.request import urlopen `\n",
    "* `from urllib.requests import urlopen`"
   ]
  },
  {
   "cell_type": "markdown",
   "metadata": {},
   "source": [
    "Интерфейс не зависит от деталей реализации — можно перемещать код между внутренними модулями и пакетами."
   ]
  },
  {
   "cell_type": "markdown",
   "metadata": {},
   "source": [
    "Одним словом, инкапсуляция и инженерное счастье."
   ]
  },
  {
   "cell_type": "markdown",
   "metadata": {},
   "source": [
    "**Минусы?**"
   ]
  },
  {
   "cell_type": "raw",
   "metadata": {},
   "source": [
    "$ time python -c \"import sympy\"\n",
    "0.59s user 0.14s system 82% cpu 0.883 total\n",
    "\n",
    "$ time python -c \"import theano\"\n",
    "0.83s user 0.21s system 100% cpu 1.032 total"
   ]
  },
  {
   "cell_type": "markdown",
   "metadata": {},
   "source": [
    "### Исполняемые модули и пакеты"
   ]
  },
  {
   "cell_type": "markdown",
   "metadata": {},
   "source": [
    "Любой модуль можно выполнить как скрипт, передав его имя в качестве аргумента **`-m`**:"
   ]
  },
  {
   "cell_type": "code",
   "execution_count": null,
   "metadata": {
    "collapsed": true
   },
   "outputs": [],
   "source": [
    "# useful/foo.py:\n",
    "print(__name__)"
   ]
  },
  {
   "cell_type": "raw",
   "metadata": {},
   "source": [
    "$ python -m useful.foo\n",
    "'__main__'"
   ]
  },
  {
   "cell_type": "markdown",
   "metadata": {},
   "source": [
    "Чтобы пакет был исполняемым, в нём должен быть файл `__main__.py`:"
   ]
  },
  {
   "cell_type": "code",
   "execution_count": null,
   "metadata": {
    "collapsed": true
   },
   "outputs": [],
   "source": [
    "# useful/__main__.py\n",
    "print(\"It works!\")"
   ]
  },
  {
   "cell_type": "code",
   "execution_count": null,
   "metadata": {
    "collapsed": true
   },
   "outputs": [],
   "source": [
    "# useful/__init__.py\n",
    "print(\"useful.__init__\")"
   ]
  },
  {
   "cell_type": "raw",
   "metadata": {},
   "source": [
    "$ python -m useful\n",
    "useful.__init__\n",
    "It works!"
   ]
  },
  {
   "cell_type": "markdown",
   "metadata": {},
   "source": [
    "Как видно, вызывается также и `__init__`."
   ]
  },
  {
   "cell_type": "markdown",
   "metadata": {},
   "source": [
    "Почему так происходит?\n",
    "\n",
    "Это можно было бы записать так:"
   ]
  },
  {
   "cell_type": "raw",
   "metadata": {},
   "source": [
    "$ python -m useful.__main__\n",
    "useful.__init__\n",
    "It works!"
   ]
  },
  {
   "cell_type": "markdown",
   "metadata": {},
   "source": [
    "И тут видно, что перед тем как использовать `__main__`, необходимо инициализировать пакет."
   ]
  },
  {
   "cell_type": "markdown",
   "metadata": {},
   "source": [
    "Подробнее: https://www.python.org/dev/peps/pep-0338"
   ]
  },
  {
   "cell_type": "markdown",
   "metadata": {},
   "source": [
    "### Пакеты: резюме"
   ]
  },
  {
   "cell_type": "markdown",
   "metadata": {},
   "source": [
    "Пакеты — это способ группировать код на Python."
   ]
  },
  {
   "cell_type": "markdown",
   "metadata": {},
   "source": [
    "Любая директория, содержащая файл `__init__.py`, задаёт пакет.\n",
    "> _Однако, начиная с Python 3.3 можно определять \"именованные\" пакеты, не требующие наличия `__init__.py`_<br/>\n",
    "_Подробнее: https://www.python.org/dev/peps/pep-0420/_\n"
   ]
  },
  {
   "cell_type": "markdown",
   "metadata": {},
   "source": [
    "Полезные детали, о которых стоит помнить:\n",
    "* в пакете можно использовать **относительный** импорт вместо абсолютного\n",
    "* с помощью `__init__.py` можно абстрагировать детали реализации пакета от пользователя (**фасад**)\n",
    "* добавив файл **`__main__.py`** — сделать пакет исполняемым"
   ]
  }
 ],
 "metadata": {
  "kernelspec": {
   "display_name": "Python 3",
   "language": "python",
   "name": "python3"
  },
  "language_info": {
   "codemirror_mode": {
    "name": "ipython",
    "version": 3
   },
   "file_extension": ".py",
   "mimetype": "text/x-python",
   "name": "python",
   "nbconvert_exporter": "python",
   "pygments_lexer": "ipython3",
   "version": "3.6.5"
  }
 },
 "nbformat": 4,
 "nbformat_minor": 2
}
