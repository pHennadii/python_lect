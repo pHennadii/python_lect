{
 "cells": [
  {
   "cell_type": "markdown",
   "metadata": {
    "slideshow": {
     "slide_type": "-"
    }
   },
   "source": [
    "# <span style=\"color: blue;\">Система импорта</span>"
   ]
  },
  {
   "cell_type": "markdown",
   "metadata": {},
   "source": [
    "### И снова оператор import"
   ]
  },
  {
   "cell_type": "markdown",
   "metadata": {},
   "source": [
    "Что происходит в момент исполнения оператора `import`?"
   ]
  },
  {
   "cell_type": "code",
   "execution_count": 1,
   "metadata": {},
   "outputs": [
    {
     "name": "stdout",
     "output_type": "stream",
     "text": [
      "  1           0 LOAD_CONST               0 (0)\n",
      "              2 LOAD_CONST               1 (None)\n",
      "              4 IMPORT_NAME              0 (useful)\n",
      "              6 STORE_NAME               0 (useful)\n",
      "              8 LOAD_CONST               1 (None)\n",
      "             10 RETURN_VALUE\n"
     ]
    }
   ],
   "source": [
    "import dis\n",
    "\n",
    "dis.dis(\"import useful\")"
   ]
  },
  {
   "cell_type": "markdown",
   "metadata": {},
   "source": [
    "Инструкция `IMPORT_NAME` вызывает встроенную функцию `__import__`:"
   ]
  },
  {
   "cell_type": "code",
   "execution_count": null,
   "metadata": {
    "collapsed": true
   },
   "outputs": [],
   "source": [
    "useful = __import__(\"useful\", globals(), None, None, 0)"
   ]
  },
  {
   "cell_type": "markdown",
   "metadata": {},
   "source": [
    "Поиск функции \"`__import__`\" в \"`builtins`\" происходит динамически, а значит можно применить метод **monkey patching**"
   ]
  },
  {
   "cell_type": "markdown",
   "metadata": {},
   "source": [
    "### Трассировка импортов"
   ]
  },
  {
   "cell_type": "code",
   "execution_count": 2,
   "metadata": {},
   "outputs": [
    {
     "name": "stdout",
     "output_type": "stream",
     "text": [
      "importing  collections\n"
     ]
    }
   ],
   "source": [
    "### НЕ ЗАПУСКАТЬ ЭТОТ ПРИМЕР :-)\n",
    "\n",
    "def import_wrapper(name, *args, std_import=__import__):\n",
    "    print(\"importing \", name)\n",
    "    return std_import(name, *args)\n",
    "\n",
    "import builtins\n",
    "builtins.__import__ = import_wrapper\n",
    "\n",
    "import collections"
   ]
  },
  {
   "cell_type": "markdown",
   "metadata": {},
   "source": [
    "Будет выведено:"
   ]
  },
  {
   "cell_type": "raw",
   "metadata": {},
   "source": [
    "importing  collections\n",
    "importing  _collections_abc\n",
    "importing  _collections_abc\n",
    "importing  operator\n",
    "importing  builtins\n",
    "importing  _operator\n",
    "..."
   ]
  },
  {
   "cell_type": "markdown",
   "metadata": {},
   "source": [
    "Параметр `std_import` хитро используется для сохранения изначального значения `__import__`"
   ]
  },
  {
   "cell_type": "markdown",
   "metadata": {},
   "source": [
    "На практике для импорта модуля по имени следует использовать функцию `import_module` из пакета `importlib`:"
   ]
  },
  {
   "cell_type": "code",
   "execution_count": 1,
   "metadata": {},
   "outputs": [
    {
     "data": {
      "text/plain": [
       "<module 'useful' from '/home/ubuntu/projects/labs.in.ua/anaconda.dev/useful.py'>"
      ]
     },
     "execution_count": 1,
     "metadata": {},
     "output_type": "execute_result"
    }
   ],
   "source": [
    "import importlib\n",
    "\n",
    "importlib.import_module(\"useful\")"
   ]
  },
  {
   "cell_type": "markdown",
   "metadata": {},
   "source": [
    "### Внутри функции `__import__`"
   ]
  },
  {
   "cell_type": "markdown",
   "metadata": {},
   "source": [
    "Что же всё-таки делает функция `__import__`?"
   ]
  },
  {
   "cell_type": "markdown",
   "metadata": {},
   "source": [
    "Сначала для модуля создаётся (пустой) объект."
   ]
  },
  {
   "cell_type": "code",
   "execution_count": 4,
   "metadata": {
    "collapsed": true
   },
   "outputs": [],
   "source": [
    "import types\n",
    "\n",
    "mod = types.ModuleType(\"useful\")"
   ]
  },
  {
   "cell_type": "markdown",
   "metadata": {},
   "source": [
    "Затем байт код модуля вычисляется в пространстве имён созданного объекта:"
   ]
  },
  {
   "cell_type": "code",
   "execution_count": 8,
   "metadata": {},
   "outputs": [
    {
     "data": {
      "text/plain": [
       "['__builtins__',\n",
       " '__doc__',\n",
       " '__loader__',\n",
       " '__name__',\n",
       " '__package__',\n",
       " '__spec__',\n",
       " 'boo',\n",
       " 'some_variable',\n",
       " 'test']"
      ]
     },
     "execution_count": 8,
     "metadata": {},
     "output_type": "execute_result"
    }
   ],
   "source": [
    "# загружаем исходный код модуля\n",
    "with open(\"./useful.py\") as handle:\n",
    "    source = handle.read()\n",
    "\n",
    "# компилируем исходник и получаем байт-код:\n",
    "code = compile(source, \"useful.py\", mode=\"exec\")\n",
    "\n",
    "# выполнение байт-кода (передавая туда globals)\n",
    "exec(code, mod.__dict__)\n",
    "\n",
    "dir(mod)"
   ]
  },
  {
   "cell_type": "markdown",
   "metadata": {},
   "source": [
    "В завершение объект присваивается переменной с соответсвующим именем:"
   ]
  },
  {
   "cell_type": "code",
   "execution_count": 6,
   "metadata": {},
   "outputs": [
    {
     "data": {
      "text/plain": [
       "<module 'useful'>"
      ]
     },
     "execution_count": 6,
     "metadata": {},
     "output_type": "execute_result"
    }
   ],
   "source": [
    "useful = mod\n",
    "useful  # ≈ import useful"
   ]
  },
  {
   "cell_type": "markdown",
   "metadata": {},
   "source": [
    "### Компиляция модулей _(первый этап кеширования)_"
   ]
  },
  {
   "cell_type": "markdown",
   "metadata": {},
   "source": [
    "При первом импорте исходный код модуля компилируется в байткод, который кешируется в файле с расширением **`.pyc`**"
   ]
  },
  {
   "cell_type": "code",
   "execution_count": 10,
   "metadata": {},
   "outputs": [
    {
     "data": {
      "text/plain": [
       "'/home/ubuntu/projects/labs.in.ua/anaconda.dev/__pycache__/useful.cpython-36.pyc'"
      ]
     },
     "execution_count": 10,
     "metadata": {},
     "output_type": "execute_result"
    }
   ],
   "source": [
    "def read_int(handle):\n",
    "    return int.from_bytes(handle.read(4), \"little\")\n",
    "\n",
    "import useful\n",
    "useful.__cached__"
   ]
  },
  {
   "cell_type": "code",
   "execution_count": 14,
   "metadata": {
    "collapsed": true
   },
   "outputs": [],
   "source": [
    "handle = open(useful.__cached__, \"rb\")\n",
    "magic = read_int(handle)  # \"3310\\r\\n\" для 3.4\n",
    "mtime = read_int(handle)  # дата последнего изменения"
   ]
  },
  {
   "cell_type": "code",
   "execution_count": 15,
   "metadata": {},
   "outputs": [
    {
     "data": {
      "text/plain": [
       "'Thu Oct 19 02:30:58 2017'"
      ]
     },
     "execution_count": 15,
     "metadata": {},
     "output_type": "execute_result"
    }
   ],
   "source": [
    "import time\n",
    "time.asctime(time.localtime(mtime))"
   ]
  },
  {
   "cell_type": "code",
   "execution_count": 16,
   "metadata": {},
   "outputs": [
    {
     "data": {
      "text/plain": [
       "203"
      ]
     },
     "execution_count": 16,
     "metadata": {},
     "output_type": "execute_result"
    }
   ],
   "source": [
    "read_int(handle)  # размер файла"
   ]
  },
  {
   "cell_type": "code",
   "execution_count": 17,
   "metadata": {},
   "outputs": [
    {
     "data": {
      "text/plain": [
       "<code object <module> at 0xb294b020, file \"/home/ubuntu/projects/labs.in.ua/anaconda.dev/useful.py\", line 1>"
      ]
     },
     "execution_count": 17,
     "metadata": {},
     "output_type": "execute_result"
    }
   ],
   "source": [
    "import marshal\n",
    "\n",
    "marshal.loads(handle.read())"
   ]
  },
  {
   "cell_type": "markdown",
   "metadata": {},
   "source": [
    "### sys.modules _(второй этап кеширования)_"
   ]
  },
  {
   "cell_type": "markdown",
   "metadata": {},
   "source": [
    "Полученный в результате импорта модуль попадает в специальный словарь **`sys.modules`**."
   ]
  },
  {
   "cell_type": "markdown",
   "metadata": {},
   "source": [
    "Ключом в словаре является имя модуля, то есть значение атрибута **`__name__`**:"
   ]
  },
  {
   "cell_type": "code",
   "execution_count": 18,
   "metadata": {},
   "outputs": [
    {
     "data": {
      "text/plain": [
       "True"
      ]
     },
     "execution_count": 18,
     "metadata": {},
     "output_type": "execute_result"
    }
   ],
   "source": [
    "import useful\n",
    "import sys\n",
    "\n",
    "\"useful\" in sys.modules"
   ]
  },
  {
   "cell_type": "code",
   "execution_count": null,
   "metadata": {
    "collapsed": true,
    "scrolled": false
   },
   "outputs": [],
   "source": [
    "list(sys.modules)"
   ]
  },
  {
   "cell_type": "markdown",
   "metadata": {},
   "source": [
    "Повторный импорт уже загруженного модуля не приводит к его перезагрузке:"
   ]
  },
  {
   "cell_type": "code",
   "execution_count": 19,
   "metadata": {},
   "outputs": [
    {
     "data": {
      "text/plain": [
       "2996006100"
      ]
     },
     "execution_count": 19,
     "metadata": {},
     "output_type": "execute_result"
    }
   ],
   "source": [
    "id(sys.modules[\"useful\"])"
   ]
  },
  {
   "cell_type": "code",
   "execution_count": 20,
   "metadata": {},
   "outputs": [
    {
     "data": {
      "text/plain": [
       "2996006100"
      ]
     },
     "execution_count": 20,
     "metadata": {},
     "output_type": "execute_result"
    }
   ],
   "source": [
    "import useful\n",
    "\n",
    "id(sys.modules[\"useful\"])"
   ]
  },
  {
   "cell_type": "markdown",
   "metadata": {},
   "source": [
    "**Важно:** Учитывайте это при работе в интерактивном режиме!<br/>\n",
    "_(изменённые версии модулей переподгружаться не будут)_"
   ]
  },
  {
   "cell_type": "markdown",
   "metadata": {},
   "source": [
    "### Циклические импорты"
   ]
  },
  {
   "cell_type": "markdown",
   "metadata": {},
   "source": [
    "Мотивирующий пример:"
   ]
  },
  {
   "cell_type": "code",
   "execution_count": null,
   "metadata": {
    "collapsed": true
   },
   "outputs": [],
   "source": [
    "# useful/__init__.py:\n",
    "\n",
    "from .foo import *\n",
    "\n",
    "some_variable = 42"
   ]
  },
  {
   "cell_type": "code",
   "execution_count": null,
   "metadata": {
    "collapsed": true
   },
   "outputs": [],
   "source": [
    "# useful/foo.py:\n",
    "\n",
    "from . import some_variable\n",
    "\n",
    "def foo():\n",
    "    print(some_variable)"
   ]
  },
  {
   "cell_type": "markdown",
   "metadata": {},
   "source": [
    "Попробуем импортировать пакет `useful`:"
   ]
  },
  {
   "cell_type": "code",
   "execution_count": null,
   "metadata": {
    "collapsed": true
   },
   "outputs": [],
   "source": [
    "import useful"
   ]
  },
  {
   "cell_type": "markdown",
   "metadata": {},
   "source": [
    "Получим ошибку:"
   ]
  },
  {
   "cell_type": "raw",
   "metadata": {},
   "source": [
    "Traceback (most recent call last):\n",
    "  File \"<stdin>\", line 1, in <module>\n",
    "  File \"./useful/__init__.py\", line 3, in <module>\n",
    "    from .foo import *\n",
    "  File \"./useful/foo.py\", line 1, in <module>\n",
    "    from . import some_variable\n",
    "  ImportError: cannot import name 'some_variable'"
   ]
  },
  {
   "cell_type": "markdown",
   "metadata": {},
   "source": [
    "### Циклические импорты: как решить?"
   ]
  },
  {
   "cell_type": "markdown",
   "metadata": {},
   "source": [
    "Бороться с циклическими импортами можно, как минимум, тремя способами."
   ]
  },
  {
   "cell_type": "markdown",
   "metadata": {},
   "source": [
    "**1).** Вынести общую функциональность в отдельный модуль."
   ]
  },
  {
   "cell_type": "code",
   "execution_count": 25,
   "metadata": {
    "collapsed": true
   },
   "outputs": [],
   "source": [
    "# useful/_common.py\n",
    "\n",
    "some_variable = 42"
   ]
  },
  {
   "cell_type": "markdown",
   "metadata": {},
   "source": [
    "**2).** Сделать импорт локальным для использующих его функций/методов:"
   ]
  },
  {
   "cell_type": "code",
   "execution_count": 26,
   "metadata": {
    "collapsed": true
   },
   "outputs": [],
   "source": [
    "# useful/foo.py:\n",
    "\n",
    "def foo():\n",
    "    from . import some_variable\n",
    "    \n",
    "    print(some_variable)"
   ]
  },
  {
   "cell_type": "markdown",
   "metadata": {},
   "source": [
    "**3).** Пойти наперекор `PEP-8` и изменить модуль `__init__.py` так, чтобы импорт происходил в конце модуля:"
   ]
  },
  {
   "cell_type": "code",
   "execution_count": null,
   "metadata": {
    "collapsed": true
   },
   "outputs": [],
   "source": [
    "# useful/__init__.py:\n",
    "\n",
    "some_variable = 42\n",
    "\n",
    "from .foo import *"
   ]
  },
  {
   "cell_type": "markdown",
   "metadata": {},
   "source": [
    "Но так лучше никогда не делайте!!"
   ]
  },
  {
   "cell_type": "markdown",
   "metadata": {},
   "source": [
    "### Подробнее о sys.path"
   ]
  },
  {
   "cell_type": "markdown",
   "metadata": {},
   "source": [
    "Напоминание:\n",
    "* `sys.path` — список “путей”, в которых Python ищет модули и пакеты при импорте\n",
    "* “путь” — произвольная строка, например, директория или zip-архив\n",
    "* импортировать можно только то, что доступно через `sys.path`"
   ]
  },
  {
   "cell_type": "markdown",
   "metadata": {},
   "source": [
    "При импорте модуля обход `sys.path` происходит слева направо до тех пор, пока модуль не будет найден:"
   ]
  },
  {
   "cell_type": "code",
   "execution_count": 28,
   "metadata": {},
   "outputs": [
    {
     "data": {
      "text/plain": [
       "['',\n",
       " '/home/ubuntu/anaconda3/lib/python36.zip',\n",
       " '/home/ubuntu/anaconda3/lib/python3.6',\n",
       " '/home/ubuntu/anaconda3/lib/python3.6/lib-dynload',\n",
       " '/home/ubuntu/anaconda3/lib/python3.6/site-packages',\n",
       " '/home/ubuntu/anaconda3/lib/python3.6/site-packages/Sphinx-1.5.6-py3.6.egg',\n",
       " '/home/ubuntu/anaconda3/lib/python3.6/site-packages/setuptools-27.2.0-py3.6.egg',\n",
       " '/home/ubuntu/anaconda3/lib/python3.6/site-packages/IPython/extensions',\n",
       " '/home/ubuntu/.ipython']"
      ]
     },
     "execution_count": 28,
     "metadata": {},
     "output_type": "execute_result"
    }
   ],
   "source": [
    "import sys\n",
    "\n",
    "sys.path"
   ]
  },
  {
   "cell_type": "markdown",
   "metadata": {},
   "source": [
    "Первый параметр -- это текущая директория"
   ]
  },
  {
   "cell_type": "code",
   "execution_count": 29,
   "metadata": {},
   "outputs": [
    {
     "data": {
      "text/plain": [
       "<module 'collections' from '/home/ubuntu/anaconda3/lib/python3.6/collections/__init__.py'>"
      ]
     },
     "execution_count": 29,
     "metadata": {},
     "output_type": "execute_result"
    }
   ],
   "source": [
    "open(\"collections.py\", \"w\").close()\n",
    "\n",
    "import collections\n",
    "collections  # теперь это локальный модуль! :("
   ]
  },
  {
   "cell_type": "markdown",
   "metadata": {},
   "source": [
    "Мораль: **никогда** не называйте свои модули как модули стандартной библиотеки."
   ]
  },
  {
   "cell_type": "markdown",
   "metadata": {},
   "source": [
    "### Построение sys.path"
   ]
  },
  {
   "cell_type": "markdown",
   "metadata": {},
   "source": [
    "При старте интерпретатора в `sys.path` находятся текущая директория и директории стандартной библиотеки:"
   ]
  },
  {
   "cell_type": "code",
   "execution_count": null,
   "metadata": {
    "collapsed": true
   },
   "outputs": [],
   "source": [
    "$ python3 -S -c 'import sys; print(sys.path)'\n",
    "['', '/usr/lib/python3.6/', ...]"
   ]
  },
  {
   "cell_type": "markdown",
   "metadata": {},
   "source": [
    "Затем к ним добавляются директории с пакетами, установленными пользователем:"
   ]
  },
  {
   "cell_type": "code",
   "execution_count": null,
   "metadata": {
    "collapsed": true
   },
   "outputs": [],
   "source": [
    "$ python3 -c 'import sys; print(sys.path)'\n",
    "['', ..., '/usr/lib/python3.6/site-packages', ...]"
   ]
  },
  {
   "cell_type": "markdown",
   "metadata": {},
   "source": [
    "Директории, перечисленные в переменной окружения `PYTHONPATH`, попадают в начало `sys.path`:"
   ]
  },
  {
   "cell_type": "code",
   "execution_count": null,
   "metadata": {
    "collapsed": true
   },
   "outputs": [],
   "source": [
    "$ PYTHONPATH=foo:bar python3 -c 'import sys; print(sys.path)'\n",
    "['', './foo', './bar', ...]"
   ]
  },
  {
   "cell_type": "markdown",
   "metadata": {},
   "source": [
    "Кроме того, `sys.path` можно изменять программно:"
   ]
  },
  {
   "cell_type": "code",
   "execution_count": null,
   "metadata": {
    "collapsed": true
   },
   "outputs": [],
   "source": [
    "import sys\n",
    "\n",
    "sys.path.extend([\"foo\", \"bar\"])"
   ]
  },
  {
   "cell_type": "markdown",
   "metadata": {},
   "source": [
    "### sys.path и sys.meta_path"
   ]
  },
  {
   "cell_type": "markdown",
   "metadata": {},
   "source": [
    "Может показаться, что `sys.path` — властелин и повелитель импорта, но это не так."
   ]
  },
  {
   "cell_type": "markdown",
   "metadata": {},
   "source": [
    "Управляет импортом **`sys.meta_path`**:"
   ]
  },
  {
   "cell_type": "code",
   "execution_count": 31,
   "metadata": {},
   "outputs": [
    {
     "data": {
      "text/plain": [
       "[_frozen_importlib.BuiltinImporter,\n",
       " _frozen_importlib.FrozenImporter,\n",
       " _frozen_importlib_external.PathFinder,\n",
       " <six._SixMetaPathImporter at 0xb6f1672c>,\n",
       " <pkg_resources.extern.VendorImporter at 0xb63735ac>,\n",
       " <pkg_resources._vendor.six._SixMetaPathImporter at 0xb6494a8c>]"
      ]
     },
     "execution_count": 31,
     "metadata": {},
     "output_type": "execute_result"
    }
   ],
   "source": [
    "import sys\n",
    "\n",
    "sys.meta_path"
   ]
  },
  {
   "cell_type": "markdown",
   "metadata": {},
   "source": [
    "**Импортер** — экземпляр класса, реализующего протоколы **искателя** (aka `Finder`) и **загрузчика** (aka `Loader`):\n",
    "* **`Finder`** любым известным ему способом ищет модуль\n",
    "* **`Loader`** загружает то, что **`Finder`** нашёл"
   ]
  },
  {
   "cell_type": "markdown",
   "metadata": {},
   "source": [
    "Если класс реализует оба протокола, он называется **импортером**."
   ]
  },
  {
   "cell_type": "markdown",
   "metadata": {},
   "source": [
    "**`BuiltinImporter`** загружает встроенные модули, например `sys`:"
   ]
  },
  {
   "cell_type": "code",
   "execution_count": 2,
   "metadata": {},
   "outputs": [
    {
     "data": {
      "text/plain": [
       "<module 'sys' (built-in)>"
      ]
     },
     "execution_count": 2,
     "metadata": {},
     "output_type": "execute_result"
    }
   ],
   "source": [
    "import sys\n",
    "sys"
   ]
  },
  {
   "cell_type": "markdown",
   "metadata": {},
   "source": [
    "**`FrozenImporter`** загружает модули, уже скомпилированные \"нативно\"."
   ]
  },
  {
   "cell_type": "markdown",
   "metadata": {},
   "source": [
    "**`PathFinder`** — стандартный поиск модулей по `sys.path`"
   ]
  },
  {
   "cell_type": "markdown",
   "metadata": {},
   "source": [
    "### Протокол искателя: Finder"
   ]
  },
  {
   "cell_type": "markdown",
   "metadata": {},
   "source": [
    "**`Finder`** должен реализовывать метод **`find_spec`**:\n",
    "* принимающий имя модуля\n",
    "* возвращающий `ModuleSpec` (или `None`, если модуль не был найден)"
   ]
  },
  {
   "cell_type": "code",
   "execution_count": 3,
   "metadata": {},
   "outputs": [
    {
     "data": {
      "text/plain": [
       "ModuleSpec(name='itertools', loader=<class '_frozen_importlib.BuiltinImporter'>, origin='built-in')"
      ]
     },
     "execution_count": 3,
     "metadata": {},
     "output_type": "execute_result"
    }
   ],
   "source": [
    "builtin_finder = sys.meta_path[0]\n",
    "path_finder = sys.meta_path[2]\n",
    "\n",
    "builtin_finder.find_spec(\"itertools\")"
   ]
  },
  {
   "cell_type": "code",
   "execution_count": 37,
   "metadata": {
    "collapsed": true
   },
   "outputs": [],
   "source": [
    "builtin_finder.find_spec(\"enum\")"
   ]
  },
  {
   "cell_type": "code",
   "execution_count": 38,
   "metadata": {},
   "outputs": [
    {
     "data": {
      "text/plain": [
       "ModuleSpec(name='enum', loader=<_frozen_importlib_external.SourceFileLoader object at 0xb3b40bec>, origin='/home/ubuntu/anaconda3/lib/python3.6/enum.py')"
      ]
     },
     "execution_count": 38,
     "metadata": {},
     "output_type": "execute_result"
    }
   ],
   "source": [
    "path_finder.find_spec(\"enum\")"
   ]
  },
  {
   "cell_type": "code",
   "execution_count": 39,
   "metadata": {},
   "outputs": [
    {
     "data": {
      "text/plain": [
       "ModuleSpec(name='math', loader=<_frozen_importlib_external.ExtensionFileLoader object at 0xb15c74cc>, origin='/home/ubuntu/anaconda3/lib/python3.6/lib-dynload/math.cpython-36m-i386-linux-gnu.so')"
      ]
     },
     "execution_count": 39,
     "metadata": {},
     "output_type": "execute_result"
    }
   ],
   "source": [
    "path_finder.find_spec(\"math\")"
   ]
  },
  {
   "cell_type": "markdown",
   "metadata": {},
   "source": [
    "### Протокол искателя: ModuleSpec"
   ]
  },
  {
   "cell_type": "markdown",
   "metadata": {},
   "source": [
    "`ModuleSpec` содержит всю необходимую для загрузки информацию о модуле:"
   ]
  },
  {
   "cell_type": "code",
   "execution_count": 4,
   "metadata": {},
   "outputs": [
    {
     "data": {
      "text/plain": [
       "'collections'"
      ]
     },
     "execution_count": 4,
     "metadata": {},
     "output_type": "execute_result"
    }
   ],
   "source": [
    "spec = path_finder.find_spec(\"collections\")\n",
    "spec.name"
   ]
  },
  {
   "cell_type": "code",
   "execution_count": 5,
   "metadata": {},
   "outputs": [
    {
     "data": {
      "text/plain": [
       "'/home/ubuntu/anaconda3/lib/python3.6/collections/__init__.py'"
      ]
     },
     "execution_count": 5,
     "metadata": {},
     "output_type": "execute_result"
    }
   ],
   "source": [
    "spec.origin"
   ]
  },
  {
   "cell_type": "code",
   "execution_count": 6,
   "metadata": {},
   "outputs": [
    {
     "data": {
      "text/plain": [
       "'/home/ubuntu/anaconda3/lib/python3.6/collections/__pycache__/__init__.cpython-36.pyc'"
      ]
     },
     "execution_count": 6,
     "metadata": {},
     "output_type": "execute_result"
    }
   ],
   "source": [
    "spec.cached"
   ]
  },
  {
   "cell_type": "code",
   "execution_count": 7,
   "metadata": {},
   "outputs": [
    {
     "data": {
      "text/plain": [
       "'collections'"
      ]
     },
     "execution_count": 7,
     "metadata": {},
     "output_type": "execute_result"
    }
   ],
   "source": [
    "spec.parent"
   ]
  },
  {
   "cell_type": "code",
   "execution_count": 8,
   "metadata": {},
   "outputs": [
    {
     "data": {
      "text/plain": [
       "['/home/ubuntu/anaconda3/lib/python3.6/collections']"
      ]
     },
     "execution_count": 8,
     "metadata": {},
     "output_type": "execute_result"
    }
   ],
   "source": [
    "spec.submodule_search_locations"
   ]
  },
  {
   "cell_type": "code",
   "execution_count": 9,
   "metadata": {},
   "outputs": [
    {
     "data": {
      "text/plain": [
       "<_frozen_importlib_external.SourceFileLoader at 0xb39fdacc>"
      ]
     },
     "execution_count": 9,
     "metadata": {},
     "output_type": "execute_result"
    }
   ],
   "source": [
    "spec.loader"
   ]
  },
  {
   "cell_type": "markdown",
   "metadata": {},
   "source": [
    "### Модернизация модулей"
   ]
  },
  {
   "cell_type": "markdown",
   "metadata": {},
   "source": [
    "**Мотивация:** у нескольких модулей одинаковый интерфейс и отличаются они, например, скоростью работы."
   ]
  },
  {
   "cell_type": "markdown",
   "metadata": {},
   "source": [
    "Хочется попробовать импортировать более быстрый, а в случае ошибки использовать медленный."
   ]
  },
  {
   "cell_type": "code",
   "execution_count": 10,
   "metadata": {
    "collapsed": true
   },
   "outputs": [],
   "source": [
    "try:\n",
    "    import _useful_speedups as useful\n",
    "except ImportError:\n",
    "    import useful"
   ]
  },
  {
   "cell_type": "markdown",
   "metadata": {},
   "source": [
    "Более надёжный вариант использует функцию `find_spec` из модуля `importlib.util`:"
   ]
  },
  {
   "cell_type": "code",
   "execution_count": 12,
   "metadata": {
    "collapsed": true
   },
   "outputs": [],
   "source": [
    "from importlib.util import find_spec\n",
    "\n",
    "if find_spec(\"_useful_speedups\"):\n",
    "    import _useful_speedups as useful\n",
    "else:\n",
    "    import useful"
   ]
  },
  {
   "cell_type": "markdown",
   "metadata": {},
   "source": [
    "Функция `find_spec` обходит `sys.meta_path` и последовательно вызывает одноимённый метод у каждого из импортеров, пока не найдёт модуль."
   ]
  },
  {
   "cell_type": "markdown",
   "metadata": {},
   "source": [
    "### Протокол загрузчика: Loader"
   ]
  },
  {
   "cell_type": "markdown",
   "metadata": {},
   "source": [
    "`Loader` должен реализовывать два метода `create_module` для создания пустого модуля и `exec_module` для его заполнения."
   ]
  },
  {
   "cell_type": "code",
   "execution_count": 13,
   "metadata": {
    "collapsed": true
   },
   "outputs": [],
   "source": [
    "spec = find_spec(\"enum\")\n",
    "\n",
    "mod = spec.loader.create_module(spec)\n",
    "mod  # None -- используем стандартный загрузчик."
   ]
  },
  {
   "cell_type": "code",
   "execution_count": 14,
   "metadata": {},
   "outputs": [
    {
     "data": {
      "text/plain": [
       "<module 'enum' from '/home/ubuntu/anaconda3/lib/python3.6/enum.py'>"
      ]
     },
     "execution_count": 14,
     "metadata": {},
     "output_type": "execute_result"
    }
   ],
   "source": [
    "from importlib.util import module_from_spec\n",
    "\n",
    "mod = module_from_spec(spec)\n",
    "mod"
   ]
  },
  {
   "cell_type": "code",
   "execution_count": 15,
   "metadata": {},
   "outputs": [
    {
     "data": {
      "text/plain": [
       "['__cached__',\n",
       " '__doc__',\n",
       " '__file__',\n",
       " '__loader__',\n",
       " '__name__',\n",
       " '__package__',\n",
       " '__spec__']"
      ]
     },
     "execution_count": 15,
     "metadata": {},
     "output_type": "execute_result"
    }
   ],
   "source": [
    "dir(mod)"
   ]
  },
  {
   "cell_type": "code",
   "execution_count": 16,
   "metadata": {},
   "outputs": [
    {
     "data": {
      "text/plain": [
       "['DynamicClassAttribute',\n",
       " 'Enum',\n",
       " 'EnumMeta',\n",
       " 'Flag',\n",
       " 'IntEnum',\n",
       " 'IntFlag',\n",
       " 'MappingProxyType',\n",
       " 'OrderedDict',\n",
       " '_EnumDict',\n",
       " '__all__',\n",
       " '__builtins__',\n",
       " '__cached__',\n",
       " '__doc__',\n",
       " '__file__',\n",
       " '__loader__',\n",
       " '__name__',\n",
       " '__package__',\n",
       " '__spec__',\n",
       " '_auto_null',\n",
       " '_decompose',\n",
       " '_high_bit',\n",
       " '_is_descriptor',\n",
       " '_is_dunder',\n",
       " '_is_sunder',\n",
       " '_make_class_unpicklable',\n",
       " '_or_',\n",
       " '_power_of_two',\n",
       " '_reduce_ex_by_name',\n",
       " 'auto',\n",
       " 'reduce',\n",
       " 'sys',\n",
       " 'unique']"
      ]
     },
     "execution_count": 16,
     "metadata": {},
     "output_type": "execute_result"
    }
   ],
   "source": [
    "spec.loader.exec_module(mod)\n",
    "\n",
    "dir(mod)"
   ]
  },
  {
   "cell_type": "markdown",
   "metadata": {},
   "source": [
    "### Пример: автоматическая установка"
   ]
  },
  {
   "cell_type": "code",
   "execution_count": 2,
   "metadata": {
    "collapsed": true
   },
   "outputs": [],
   "source": [
    "import sys\n",
    "import subprocess\n",
    "from importlib.util import find_spec\n",
    "from importlib.abc import MetaPathFinder\n",
    "\n",
    "class AutoInstall(MetaPathFinder):\n",
    "    _loaded = set()\n",
    "    \n",
    "    @classmethod\n",
    "    def find_spec(cls, name, path=None, target=None):\n",
    "        if path is not None or name in cls._loaded:\n",
    "            return None\n",
    "        print(\"Installing\", name)\n",
    "        cls._loaded.add(name)\n",
    "        try:\n",
    "            subprocess.check_output(\n",
    "                [sys.executable, \"-m\", \n",
    "                 \"pip\", \"install\", name]\n",
    "            )\n",
    "            return find_spec(name)\n",
    "        except Exception:\n",
    "            print(\"Failed\")\n",
    "\n",
    "sys.meta_path.append(AutoInstall)"
   ]
  },
  {
   "cell_type": "markdown",
   "metadata": {},
   "source": [
    "**Вопрос:** Для чего атрибут `_loaded`?"
   ]
  },
  {
   "cell_type": "markdown",
   "metadata": {},
   "source": [
    "### Знакомьтесь, sys.path_hooks!"
   ]
  },
  {
   "cell_type": "markdown",
   "metadata": {},
   "source": [
    "К сожалению, на `sys.meta_path`, искателях и загрузчиках история не заканчивается."
   ]
  },
  {
   "cell_type": "markdown",
   "metadata": {},
   "source": [
    "В игру вступает **`sys.path_hooks`** — ещё один список, используемый искателем `PathFinder`."
   ]
  },
  {
   "cell_type": "markdown",
   "metadata": {},
   "source": [
    "В `sys.path_hooks` находятся функции, задача которых: подобрать каждому элементу `sys.path` — искателя."
   ]
  },
  {
   "cell_type": "code",
   "execution_count": 17,
   "metadata": {},
   "outputs": [
    {
     "data": {
      "text/plain": [
       "[zipimport.zipimporter,\n",
       " <function _frozen_importlib_external.FileFinder.path_hook.<locals>.path_hook_for_FileFinder>]"
      ]
     },
     "execution_count": 17,
     "metadata": {},
     "output_type": "execute_result"
    }
   ],
   "source": [
    "sys.path_hooks"
   ]
  },
  {
   "cell_type": "code",
   "execution_count": 22,
   "metadata": {},
   "outputs": [
    {
     "ename": "ZipImportError",
     "evalue": "not a Zip file",
     "output_type": "error",
     "traceback": [
      "\u001b[0;31m---------------------------------------------------------------------------\u001b[0m",
      "\u001b[0;31mZipImportError\u001b[0m                            Traceback (most recent call last)",
      "\u001b[0;32m<ipython-input-22-af781bcbd37a>\u001b[0m in \u001b[0;36m<module>\u001b[0;34m()\u001b[0m\n\u001b[0;32m----> 1\u001b[0;31m \u001b[0msys\u001b[0m\u001b[0;34m.\u001b[0m\u001b[0mpath_hooks\u001b[0m\u001b[0;34m[\u001b[0m\u001b[0;36m0\u001b[0m\u001b[0;34m]\u001b[0m\u001b[0;34m(\u001b[0m\u001b[0;34m'/usr/lib/python3'\u001b[0m\u001b[0;34m)\u001b[0m\u001b[0;34m\u001b[0m\u001b[0m\n\u001b[0m",
      "\u001b[0;31mZipImportError\u001b[0m: not a Zip file"
     ]
    }
   ],
   "source": [
    "sys.path_hooks[0]('/usr/lib/python3')"
   ]
  },
  {
   "cell_type": "code",
   "execution_count": 21,
   "metadata": {},
   "outputs": [
    {
     "data": {
      "text/plain": [
       "FileFinder('/usr/lib/python3')"
      ]
     },
     "execution_count": 21,
     "metadata": {},
     "output_type": "execute_result"
    }
   ],
   "source": [
    "sys.path_hooks[1]('/usr/lib/python3')"
   ]
  },
  {
   "cell_type": "markdown",
   "metadata": {},
   "source": [
    "### Пример: удалённый импорт"
   ]
  },
  {
   "cell_type": "code",
   "execution_count": null,
   "metadata": {
    "collapsed": true
   },
   "outputs": [],
   "source": [
    "import re\n",
    "import sys\n",
    "from urllib.request import urlopen\n",
    "\n",
    "def url_hook(url):\n",
    "    if not url.startswith((\"http://\", \"https://\")):\n",
    "        raise ImportError\n",
    "    with urlopen(url) as page:\n",
    "        data = page.read().decode(\"utf-8\")\n",
    "    filenames = re.findall(\"[a-zA-Z_][a-zA-Z0-9_]*.py\", data)\n",
    "    module_names = {name[:-3] for name in filenames}  # отрезаем \".py\"\n",
    "    return URLFinder(url, module_names)\n",
    "\n",
    "sys.path_hooks.append(url_hook)"
   ]
  },
  {
   "cell_type": "markdown",
   "metadata": {},
   "source": [
    "### Удаленный импорт: URLFinder"
   ]
  },
  {
   "cell_type": "code",
   "execution_count": null,
   "metadata": {
    "collapsed": true
   },
   "outputs": [],
   "source": [
    "from importlib.abc import PathEntryFinder\n",
    "from importlib.utils import spec_from_loader\n",
    "\n",
    "class URLFinder(PathEntryFinder):\n",
    "    def __init__(self, url, available):\n",
    "        self.url = url\n",
    "        self.available = available\n",
    "        \n",
    "    def find_spec(self, name, target=None):\n",
    "        if name not in self.available:\n",
    "            return None\n",
    "        loader = URLLoader()\n",
    "        origin = \"{}/{}.py\".format(self.url, name)\n",
    "        return spec_from_loader(name, loader, origin=origin)           "
   ]
  },
  {
   "cell_type": "markdown",
   "metadata": {},
   "source": [
    "### Удаленный импорт: URLLoader"
   ]
  },
  {
   "cell_type": "code",
   "execution_count": null,
   "metadata": {
    "collapsed": true
   },
   "outputs": [],
   "source": [
    "from urllib.request import urlopen\n",
    "\n",
    "class URLLoader:\n",
    "    def create_module(self, target):\n",
    "        return None\n",
    "    \n",
    "    def exec_module(self, module):\n",
    "        with urlopen(module.__spec__.origin) as page:\n",
    "            source = page.read()\n",
    "        code = compile(source, \n",
    "                       module.__spec__.origin,\n",
    "                       mode=\"exec\")\n",
    "        exec(code, module.__dict__)"
   ]
  },
  {
   "cell_type": "markdown",
   "metadata": {},
   "source": [
    "### Удаленный импорт в действии"
   ]
  },
  {
   "cell_type": "markdown",
   "metadata": {},
   "source": [
    "Модуль, который будем удалённо загружать:"
   ]
  },
  {
   "cell_type": "code",
   "execution_count": null,
   "metadata": {
    "collapsed": true
   },
   "outputs": [],
   "source": [
    "# remote.py:\n",
    "\n",
    "print(\"It works!\")"
   ]
  },
  {
   "cell_type": "markdown",
   "metadata": {},
   "source": [
    "Запускаем простой веб-сервер из папки с `remote.py`"
   ]
  },
  {
   "cell_type": "code",
   "execution_count": null,
   "metadata": {
    "collapsed": true
   },
   "outputs": [],
   "source": [
    "$ python -m http.server\n",
    "Serving HTTP on 0.0.0.0 port 8000 ..."
   ]
  },
  {
   "cell_type": "markdown",
   "metadata": {},
   "source": [
    "То, что возвращает веб-сервер:"
   ]
  },
  {
   "cell_type": "code",
   "execution_count": null,
   "metadata": {
    "collapsed": true
   },
   "outputs": [],
   "source": [
    "$ curl http://127.0.0.1:8000/\n",
    "<!DOCTYPE HTML PUBLIC \"-//W3C//DTD HTML 4.01//EN\" \n",
    "    \"http://www.w3.org/TR/html4/strict.dtd\">\n",
    "<html>\n",
    "<head>\n",
    "<meta http-equiv=\"Content-Type\" content=\"text/html; charset=ascii\">\n",
    "<title>Directory listing for /</title>\n",
    "</head>\n",
    "<body>\n",
    "<h1>Directory listing for /</h1>\n",
    "<hr>\n",
    "<ul>\n",
    "<li><a href=\"remote.py\">remote.py</a></li>\n",
    "</ul>\n",
    "<hr>\n",
    "</body>\n",
    "</html>"
   ]
  },
  {
   "cell_type": "markdown",
   "metadata": {},
   "source": [
    "Пусть весь пример выше расположен в `activate.py`. Запустим интерактивный `python`:"
   ]
  },
  {
   "cell_type": "raw",
   "metadata": {},
   "source": [
    "python -i activate.py"
   ]
  },
  {
   "cell_type": "code",
   "execution_count": null,
   "metadata": {
    "collapsed": true
   },
   "outputs": [],
   "source": [
    "import remote"
   ]
  },
  {
   "cell_type": "markdown",
   "metadata": {},
   "source": [
    "Будет выведено:"
   ]
  },
  {
   "cell_type": "raw",
   "metadata": {},
   "source": [
    "Traceback (most recent call last):\n",
    "  File \"<stdin>\", line 1, in <module>\n",
    "ModuleNotFoundError: No module named 'remote'"
   ]
  },
  {
   "cell_type": "markdown",
   "metadata": {},
   "source": [
    "Добавим наш URL в `sys.path` и попробуем импортировать снова:"
   ]
  },
  {
   "cell_type": "code",
   "execution_count": null,
   "metadata": {
    "collapsed": true
   },
   "outputs": [],
   "source": [
    "import sys\n",
    "sys.path.append(\"http://localhost:8000\")\n",
    "\n",
    "import remote"
   ]
  },
  {
   "cell_type": "markdown",
   "metadata": {},
   "source": [
    "Получим:"
   ]
  },
  {
   "cell_type": "raw",
   "metadata": {},
   "source": [
    "It works!"
   ]
  },
  {
   "cell_type": "markdown",
   "metadata": {},
   "source": [
    "### Система импорта: резюме"
   ]
  },
  {
   "cell_type": "markdown",
   "metadata": {},
   "source": [
    "Система импорта нетривиальна."
   ]
  },
  {
   "cell_type": "markdown",
   "metadata": {},
   "source": [
    "Импорт контролируется импортерами, задача которых — найти модуль по имени и загрузить его."
   ]
  },
  {
   "cell_type": "markdown",
   "metadata": {},
   "source": [
    "После загрузки интерпретатора в `sys.meta_path` появляются импортеры для работы со встроенными модулями, а также модулями в zip-архивах и “путях”."
   ]
  },
  {
   "cell_type": "markdown",
   "metadata": {},
   "source": [
    "“Путевой” искатель aka `PathFinder` можно расширять, добавляя новые “пути” к `sys.path` и функции к `sys.path_hooks`."
   ]
  }
 ],
 "metadata": {
  "kernelspec": {
   "display_name": "Python 3",
   "language": "python",
   "name": "python3"
  },
  "language_info": {
   "codemirror_mode": {
    "name": "ipython",
    "version": 3
   },
   "file_extension": ".py",
   "mimetype": "text/x-python",
   "name": "python",
   "nbconvert_exporter": "python",
   "pygments_lexer": "ipython3",
   "version": "3.6.5"
  }
 },
 "nbformat": 4,
 "nbformat_minor": 2
}
